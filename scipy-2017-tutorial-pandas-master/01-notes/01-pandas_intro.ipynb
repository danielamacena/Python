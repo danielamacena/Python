{
  "nbformat": 4,
  "nbformat_minor": 0,
  "metadata": {
    "kernelspec": {
      "display_name": "Python 3",
      "language": "python",
      "name": "python3"
    },
    "language_info": {
      "codemirror_mode": {
        "name": "ipython",
        "version": 3
      },
      "file_extension": ".py",
      "mimetype": "text/x-python",
      "name": "python",
      "nbconvert_exporter": "python",
      "pygments_lexer": "ipython3",
      "version": "3.6.1"
    },
    "colab": {
      "name": "01-pandas_intro.ipynb",
      "provenance": []
    }
  },
  "cells": [
    {
      "cell_type": "markdown",
      "metadata": {
        "id": "ZFQdB2DI8yt3"
      },
      "source": [
        "# Loading data"
      ]
    },
    {
      "cell_type": "code",
      "metadata": {
        "id": "nNHoKv348yt4",
        "outputId": "a568f6a0-79d6-44f3-8688-ffed7e2f94d7",
        "colab": {
          "resources": {
            "http://localhost:8080/nbextensions/google.colab/files.js": {
              "data": "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",
              "ok": true,
              "headers": [
                [
                  "content-type",
                  "application/javascript"
                ]
              ],
              "status": 200,
              "status_text": ""
            }
          },
          "base_uri": "https://localhost:8080/",
          "height": 905
        }
      },
      "source": [
        "import pandas as pd\n",
        "import io\n",
        "\n",
        "from google.colab import files\n",
        "\n",
        "uploaded = files.upload()\n",
        "\n",
        "for fn in uploaded.keys():\n",
        "  print('User uploaded file \"{name}\" with length {length} bytes'.format(\n",
        "      name=fn, length=len(uploaded[fn])))"
      ],
      "execution_count": 4,
      "outputs": [
        {
          "output_type": "display_data",
          "data": {
            "text/html": [
              "\n",
              "     <input type=\"file\" id=\"files-8fb9195f-c35b-4a25-9dfb-19664bf18d52\" name=\"files[]\" multiple disabled\n",
              "        style=\"border:none\" />\n",
              "     <output id=\"result-8fb9195f-c35b-4a25-9dfb-19664bf18d52\">\n",
              "      Upload widget is only available when the cell has been executed in the\n",
              "      current browser session. Please rerun this cell to enable.\n",
              "      </output>\n",
              "      <script src=\"/nbextensions/google.colab/files.js\"></script> "
            ],
            "text/plain": [
              "<IPython.core.display.HTML object>"
            ]
          },
          "metadata": {
            "tags": []
          }
        },
        {
          "output_type": "stream",
          "text": [
            "Saving billboard.csv to billboard (1).csv\n",
            "Saving concat_1.csv to concat_1 (1).csv\n",
            "Saving concat_2.csv to concat_2 (1).csv\n",
            "Saving concat_3.csv to concat_3 (1).csv\n",
            "Saving doctors.csv to doctors (1).csv\n",
            "Saving doctors_unicode.csv to doctors_unicode (1).csv\n",
            "Saving ebola_country_timeseries.csv to ebola_country_timeseries (1).csv\n",
            "Saving gapminder.tsv to gapminder (1).tsv\n",
            "Saving pew.csv to pew (1).csv\n",
            "Saving preg.csv to preg (1).csv\n",
            "Saving preg2.csv to preg2 (1).csv\n",
            "Saving survey_person.csv to survey_person (1).csv\n",
            "Saving survey_site.csv to survey_site (1).csv\n",
            "Saving survey_survey.csv to survey_survey (1).csv\n",
            "Saving survey_visited.csv to survey_visited (1).csv\n",
            "Saving tb.csv to tb (1).csv\n",
            "Saving weather.csv to weather (1).csv\n",
            "User uploaded file \"billboard.csv\" with length 90190 bytes\n",
            "User uploaded file \"concat_1.csv\" with length 56 bytes\n",
            "User uploaded file \"concat_2.csv\" with length 56 bytes\n",
            "User uploaded file \"concat_3.csv\" with length 64 bytes\n",
            "User uploaded file \"doctors.csv\" with length 287 bytes\n",
            "User uploaded file \"doctors_unicode.csv\" with length 298 bytes\n",
            "User uploaded file \"ebola_country_timeseries.csv\" with length 5674 bytes\n",
            "User uploaded file \"gapminder.tsv\" with length 81932 bytes\n",
            "User uploaded file \"pew.csv\" with length 965 bytes\n",
            "User uploaded file \"preg.csv\" with length 86 bytes\n",
            "User uploaded file \"preg2.csv\" with length 73 bytes\n",
            "User uploaded file \"survey_person.csv\" with length 122 bytes\n",
            "User uploaded file \"survey_site.csv\" with length 74 bytes\n",
            "User uploaded file \"survey_survey.csv\" with length 391 bytes\n",
            "User uploaded file \"survey_visited.csv\" with length 168 bytes\n",
            "User uploaded file \"tb.csv\" with length 408856 bytes\n",
            "User uploaded file \"weather.csv\" with length 2898 bytes\n"
          ],
          "name": "stdout"
        }
      ]
    },
    {
      "cell_type": "code",
      "metadata": {
        "id": "bm1t7oKN8yt7",
        "outputId": "9e0fe17f-9c36-44d0-d26f-0c79a80eb9b1"
      },
      "source": [
        "pandas.__version__"
      ],
      "execution_count": null,
      "outputs": [
        {
          "output_type": "execute_result",
          "data": {
            "text/plain": [
              "'0.20.1'"
            ]
          },
          "metadata": {
            "tags": []
          },
          "execution_count": 2
        }
      ]
    },
    {
      "cell_type": "code",
      "metadata": {
        "id": "g5hhqDUL8yt-"
      },
      "source": [
        "# load data\n",
        "#pandas.read_csv('../data/gapminder.tsv', delimiter='\\t')\n",
        "df=pandas.read_csv(io.BytesIO(uploaded['gapminder.tsv']),delimiter='\\t')"
      ],
      "execution_count": 6,
      "outputs": []
    },
    {
      "cell_type": "code",
      "metadata": {
        "id": "z5UbNeiX8yuO",
        "outputId": "2d571c08-33f3-43bc-ac5e-2c1d0d7025df",
        "colab": {
          "base_uri": "https://localhost:8080/",
          "height": 204
        }
      },
      "source": [
        "# view the first 5 rows\n",
        "df.head()"
      ],
      "execution_count": 7,
      "outputs": [
        {
          "output_type": "execute_result",
          "data": {
            "text/html": [
              "<div>\n",
              "<style scoped>\n",
              "    .dataframe tbody tr th:only-of-type {\n",
              "        vertical-align: middle;\n",
              "    }\n",
              "\n",
              "    .dataframe tbody tr th {\n",
              "        vertical-align: top;\n",
              "    }\n",
              "\n",
              "    .dataframe thead th {\n",
              "        text-align: right;\n",
              "    }\n",
              "</style>\n",
              "<table border=\"1\" class=\"dataframe\">\n",
              "  <thead>\n",
              "    <tr style=\"text-align: right;\">\n",
              "      <th></th>\n",
              "      <th>country</th>\n",
              "      <th>continent</th>\n",
              "      <th>year</th>\n",
              "      <th>lifeExp</th>\n",
              "      <th>pop</th>\n",
              "      <th>gdpPercap</th>\n",
              "    </tr>\n",
              "  </thead>\n",
              "  <tbody>\n",
              "    <tr>\n",
              "      <th>0</th>\n",
              "      <td>Afghanistan</td>\n",
              "      <td>Asia</td>\n",
              "      <td>1952</td>\n",
              "      <td>28.801</td>\n",
              "      <td>8425333</td>\n",
              "      <td>779.445314</td>\n",
              "    </tr>\n",
              "    <tr>\n",
              "      <th>1</th>\n",
              "      <td>Afghanistan</td>\n",
              "      <td>Asia</td>\n",
              "      <td>1957</td>\n",
              "      <td>30.332</td>\n",
              "      <td>9240934</td>\n",
              "      <td>820.853030</td>\n",
              "    </tr>\n",
              "    <tr>\n",
              "      <th>2</th>\n",
              "      <td>Afghanistan</td>\n",
              "      <td>Asia</td>\n",
              "      <td>1962</td>\n",
              "      <td>31.997</td>\n",
              "      <td>10267083</td>\n",
              "      <td>853.100710</td>\n",
              "    </tr>\n",
              "    <tr>\n",
              "      <th>3</th>\n",
              "      <td>Afghanistan</td>\n",
              "      <td>Asia</td>\n",
              "      <td>1967</td>\n",
              "      <td>34.020</td>\n",
              "      <td>11537966</td>\n",
              "      <td>836.197138</td>\n",
              "    </tr>\n",
              "    <tr>\n",
              "      <th>4</th>\n",
              "      <td>Afghanistan</td>\n",
              "      <td>Asia</td>\n",
              "      <td>1972</td>\n",
              "      <td>36.088</td>\n",
              "      <td>13079460</td>\n",
              "      <td>739.981106</td>\n",
              "    </tr>\n",
              "  </tbody>\n",
              "</table>\n",
              "</div>"
            ],
            "text/plain": [
              "       country continent  year  lifeExp       pop   gdpPercap\n",
              "0  Afghanistan      Asia  1952   28.801   8425333  779.445314\n",
              "1  Afghanistan      Asia  1957   30.332   9240934  820.853030\n",
              "2  Afghanistan      Asia  1962   31.997  10267083  853.100710\n",
              "3  Afghanistan      Asia  1967   34.020  11537966  836.197138\n",
              "4  Afghanistan      Asia  1972   36.088  13079460  739.981106"
            ]
          },
          "metadata": {
            "tags": []
          },
          "execution_count": 7
        }
      ]
    },
    {
      "cell_type": "code",
      "metadata": {
        "id": "X1MRqyin8yuT",
        "outputId": "16119c26-6d44-49fc-f92a-f2ed46e8da31",
        "colab": {
          "base_uri": "https://localhost:8080/"
        }
      },
      "source": [
        "# what is this df object?\n",
        "type(df)"
      ],
      "execution_count": 9,
      "outputs": [
        {
          "output_type": "execute_result",
          "data": {
            "text/plain": [
              "pandas.core.frame.DataFrame"
            ]
          },
          "metadata": {
            "tags": []
          },
          "execution_count": 9
        }
      ]
    },
    {
      "cell_type": "code",
      "metadata": {
        "id": "bBHFG8Se8yuV",
        "outputId": "e2be2543-9c1f-4d3d-f2d8-7bd80f746e28",
        "colab": {
          "base_uri": "https://localhost:8080/"
        }
      },
      "source": [
        "# get num rows and columns\n",
        "df.shape"
      ],
      "execution_count": 10,
      "outputs": [
        {
          "output_type": "execute_result",
          "data": {
            "text/plain": [
              "(1704, 6)"
            ]
          },
          "metadata": {
            "tags": []
          },
          "execution_count": 10
        }
      ]
    },
    {
      "cell_type": "code",
      "metadata": {
        "id": "OtCE_BMG8yuY",
        "outputId": "5137cffb-cd96-4ea6-fd5a-ffe290b0ba1c",
        "colab": {
          "base_uri": "https://localhost:8080/",
          "height": 180
        }
      },
      "source": [
        "# shape is an attribute, not a function\n",
        "df.shape()"
      ],
      "execution_count": 11,
      "outputs": [
        {
          "output_type": "error",
          "ename": "TypeError",
          "evalue": "ignored",
          "traceback": [
            "\u001b[0;31m---------------------------------------------------------------------------\u001b[0m",
            "\u001b[0;31mTypeError\u001b[0m                                 Traceback (most recent call last)",
            "\u001b[0;32m<ipython-input-11-a8fe7e39f013>\u001b[0m in \u001b[0;36m<module>\u001b[0;34m()\u001b[0m\n\u001b[1;32m      1\u001b[0m \u001b[0;31m# shape is an attribute, not a function\u001b[0m\u001b[0;34m\u001b[0m\u001b[0;34m\u001b[0m\u001b[0;34m\u001b[0m\u001b[0m\n\u001b[0;32m----> 2\u001b[0;31m \u001b[0mdf\u001b[0m\u001b[0;34m.\u001b[0m\u001b[0mshape\u001b[0m\u001b[0;34m(\u001b[0m\u001b[0;34m)\u001b[0m\u001b[0;34m\u001b[0m\u001b[0;34m\u001b[0m\u001b[0m\n\u001b[0m",
            "\u001b[0;31mTypeError\u001b[0m: 'tuple' object is not callable"
          ]
        }
      ]
    },
    {
      "cell_type": "code",
      "metadata": {
        "id": "CEl8oPo48yub",
        "outputId": "0ea53eff-96e1-4f27-d18e-48721b1ee791",
        "colab": {
          "base_uri": "https://localhost:8080/"
        }
      },
      "source": [
        "df.info()"
      ],
      "execution_count": 12,
      "outputs": [
        {
          "output_type": "stream",
          "text": [
            "<class 'pandas.core.frame.DataFrame'>\n",
            "RangeIndex: 1704 entries, 0 to 1703\n",
            "Data columns (total 6 columns):\n",
            " #   Column     Non-Null Count  Dtype  \n",
            "---  ------     --------------  -----  \n",
            " 0   country    1704 non-null   object \n",
            " 1   continent  1704 non-null   object \n",
            " 2   year       1704 non-null   int64  \n",
            " 3   lifeExp    1704 non-null   float64\n",
            " 4   pop        1704 non-null   int64  \n",
            " 5   gdpPercap  1704 non-null   float64\n",
            "dtypes: float64(2), int64(2), object(2)\n",
            "memory usage: 80.0+ KB\n"
          ],
          "name": "stdout"
        }
      ]
    },
    {
      "cell_type": "markdown",
      "metadata": {
        "id": "XglIPo8l8yue"
      },
      "source": [
        "# Subsetting data"
      ]
    },
    {
      "cell_type": "markdown",
      "metadata": {
        "id": "5d46s5wc8yue"
      },
      "source": [
        "## Columns"
      ]
    },
    {
      "cell_type": "code",
      "metadata": {
        "id": "ax7gxi_38yue"
      },
      "source": [
        "# subset a single column\n",
        "country_df = df['country']"
      ],
      "execution_count": null,
      "outputs": []
    },
    {
      "cell_type": "code",
      "metadata": {
        "scrolled": true,
        "id": "rPePDpI08yuh",
        "outputId": "51355912-538b-47bb-e594-bfa8f0923024"
      },
      "source": [
        "country_df"
      ],
      "execution_count": null,
      "outputs": [
        {
          "output_type": "execute_result",
          "data": {
            "text/plain": [
              "0       Afghanistan\n",
              "1       Afghanistan\n",
              "2       Afghanistan\n",
              "3       Afghanistan\n",
              "4       Afghanistan\n",
              "5       Afghanistan\n",
              "6       Afghanistan\n",
              "7       Afghanistan\n",
              "8       Afghanistan\n",
              "9       Afghanistan\n",
              "10      Afghanistan\n",
              "11      Afghanistan\n",
              "12          Albania\n",
              "13          Albania\n",
              "14          Albania\n",
              "15          Albania\n",
              "16          Albania\n",
              "17          Albania\n",
              "18          Albania\n",
              "19          Albania\n",
              "20          Albania\n",
              "21          Albania\n",
              "22          Albania\n",
              "23          Albania\n",
              "24          Algeria\n",
              "25          Algeria\n",
              "26          Algeria\n",
              "27          Algeria\n",
              "28          Algeria\n",
              "29          Algeria\n",
              "           ...     \n",
              "1674    Yemen, Rep.\n",
              "1675    Yemen, Rep.\n",
              "1676    Yemen, Rep.\n",
              "1677    Yemen, Rep.\n",
              "1678    Yemen, Rep.\n",
              "1679    Yemen, Rep.\n",
              "1680         Zambia\n",
              "1681         Zambia\n",
              "1682         Zambia\n",
              "1683         Zambia\n",
              "1684         Zambia\n",
              "1685         Zambia\n",
              "1686         Zambia\n",
              "1687         Zambia\n",
              "1688         Zambia\n",
              "1689         Zambia\n",
              "1690         Zambia\n",
              "1691         Zambia\n",
              "1692       Zimbabwe\n",
              "1693       Zimbabwe\n",
              "1694       Zimbabwe\n",
              "1695       Zimbabwe\n",
              "1696       Zimbabwe\n",
              "1697       Zimbabwe\n",
              "1698       Zimbabwe\n",
              "1699       Zimbabwe\n",
              "1700       Zimbabwe\n",
              "1701       Zimbabwe\n",
              "1702       Zimbabwe\n",
              "1703       Zimbabwe\n",
              "Name: country, Length: 1704, dtype: object"
            ]
          },
          "metadata": {
            "tags": []
          },
          "execution_count": 13
        }
      ]
    },
    {
      "cell_type": "code",
      "metadata": {
        "scrolled": true,
        "id": "8qdIE9N88yuk",
        "outputId": "24bc6267-83ec-4106-9f0d-414000544784"
      },
      "source": [
        "df.country"
      ],
      "execution_count": null,
      "outputs": [
        {
          "output_type": "execute_result",
          "data": {
            "text/plain": [
              "0       Afghanistan\n",
              "1       Afghanistan\n",
              "2       Afghanistan\n",
              "3       Afghanistan\n",
              "4       Afghanistan\n",
              "5       Afghanistan\n",
              "6       Afghanistan\n",
              "7       Afghanistan\n",
              "8       Afghanistan\n",
              "9       Afghanistan\n",
              "10      Afghanistan\n",
              "11      Afghanistan\n",
              "12          Albania\n",
              "13          Albania\n",
              "14          Albania\n",
              "15          Albania\n",
              "16          Albania\n",
              "17          Albania\n",
              "18          Albania\n",
              "19          Albania\n",
              "20          Albania\n",
              "21          Albania\n",
              "22          Albania\n",
              "23          Albania\n",
              "24          Algeria\n",
              "25          Algeria\n",
              "26          Algeria\n",
              "27          Algeria\n",
              "28          Algeria\n",
              "29          Algeria\n",
              "           ...     \n",
              "1674    Yemen, Rep.\n",
              "1675    Yemen, Rep.\n",
              "1676    Yemen, Rep.\n",
              "1677    Yemen, Rep.\n",
              "1678    Yemen, Rep.\n",
              "1679    Yemen, Rep.\n",
              "1680         Zambia\n",
              "1681         Zambia\n",
              "1682         Zambia\n",
              "1683         Zambia\n",
              "1684         Zambia\n",
              "1685         Zambia\n",
              "1686         Zambia\n",
              "1687         Zambia\n",
              "1688         Zambia\n",
              "1689         Zambia\n",
              "1690         Zambia\n",
              "1691         Zambia\n",
              "1692       Zimbabwe\n",
              "1693       Zimbabwe\n",
              "1694       Zimbabwe\n",
              "1695       Zimbabwe\n",
              "1696       Zimbabwe\n",
              "1697       Zimbabwe\n",
              "1698       Zimbabwe\n",
              "1699       Zimbabwe\n",
              "1700       Zimbabwe\n",
              "1701       Zimbabwe\n",
              "1702       Zimbabwe\n",
              "1703       Zimbabwe\n",
              "Name: country, Length: 1704, dtype: object"
            ]
          },
          "metadata": {
            "tags": []
          },
          "execution_count": 14
        }
      ]
    },
    {
      "cell_type": "code",
      "metadata": {
        "id": "ZuHmPsEF8yum",
        "outputId": "b6a4f18f-d652-44ee-fa40-6f1e0d9dbf48"
      },
      "source": [
        "df.country.head()"
      ],
      "execution_count": null,
      "outputs": [
        {
          "output_type": "execute_result",
          "data": {
            "text/plain": [
              "0    Afghanistan\n",
              "1    Afghanistan\n",
              "2    Afghanistan\n",
              "3    Afghanistan\n",
              "4    Afghanistan\n",
              "Name: country, dtype: object"
            ]
          },
          "metadata": {
            "tags": []
          },
          "execution_count": 15
        }
      ]
    },
    {
      "cell_type": "code",
      "metadata": {
        "id": "7M8M5BjC8yuo",
        "outputId": "035b0118-398b-41ae-8f67-7a5519462e99"
      },
      "source": [
        "# subset multiple columns\n",
        "df[['country', 'continent', 'year']].head()"
      ],
      "execution_count": null,
      "outputs": [
        {
          "output_type": "execute_result",
          "data": {
            "text/html": [
              "<div>\n",
              "<style>\n",
              "    .dataframe thead tr:only-child th {\n",
              "        text-align: right;\n",
              "    }\n",
              "\n",
              "    .dataframe thead th {\n",
              "        text-align: left;\n",
              "    }\n",
              "\n",
              "    .dataframe tbody tr th {\n",
              "        vertical-align: top;\n",
              "    }\n",
              "</style>\n",
              "<table border=\"1\" class=\"dataframe\">\n",
              "  <thead>\n",
              "    <tr style=\"text-align: right;\">\n",
              "      <th></th>\n",
              "      <th>country</th>\n",
              "      <th>continent</th>\n",
              "      <th>year</th>\n",
              "    </tr>\n",
              "  </thead>\n",
              "  <tbody>\n",
              "    <tr>\n",
              "      <th>0</th>\n",
              "      <td>Afghanistan</td>\n",
              "      <td>Asia</td>\n",
              "      <td>1952</td>\n",
              "    </tr>\n",
              "    <tr>\n",
              "      <th>1</th>\n",
              "      <td>Afghanistan</td>\n",
              "      <td>Asia</td>\n",
              "      <td>1957</td>\n",
              "    </tr>\n",
              "    <tr>\n",
              "      <th>2</th>\n",
              "      <td>Afghanistan</td>\n",
              "      <td>Asia</td>\n",
              "      <td>1962</td>\n",
              "    </tr>\n",
              "    <tr>\n",
              "      <th>3</th>\n",
              "      <td>Afghanistan</td>\n",
              "      <td>Asia</td>\n",
              "      <td>1967</td>\n",
              "    </tr>\n",
              "    <tr>\n",
              "      <th>4</th>\n",
              "      <td>Afghanistan</td>\n",
              "      <td>Asia</td>\n",
              "      <td>1972</td>\n",
              "    </tr>\n",
              "  </tbody>\n",
              "</table>\n",
              "</div>"
            ],
            "text/plain": [
              "       country continent  year\n",
              "0  Afghanistan      Asia  1952\n",
              "1  Afghanistan      Asia  1957\n",
              "2  Afghanistan      Asia  1962\n",
              "3  Afghanistan      Asia  1967\n",
              "4  Afghanistan      Asia  1972"
            ]
          },
          "metadata": {
            "tags": []
          },
          "execution_count": 16
        }
      ]
    },
    {
      "cell_type": "code",
      "metadata": {
        "id": "N2cCYVjS8yuq",
        "outputId": "4e80e57a-c5d1-4bf8-cb3e-1a12178be5f8"
      },
      "source": [
        "# subset columns by position\n",
        "# starts from 0\n",
        "\n",
        "# this is a recent change from v 0.19\n",
        "df[[0]]"
      ],
      "execution_count": null,
      "outputs": [
        {
          "output_type": "error",
          "ename": "KeyError",
          "evalue": "'[0] not in index'",
          "traceback": [
            "\u001b[0;31m---------------------------------------------------------------------------\u001b[0m",
            "\u001b[0;31mKeyError\u001b[0m                                  Traceback (most recent call last)",
            "\u001b[0;32m<ipython-input-17-7de303d842bf>\u001b[0m in \u001b[0;36m<module>\u001b[0;34m()\u001b[0m\n\u001b[1;32m      3\u001b[0m \u001b[0;34m\u001b[0m\u001b[0m\n\u001b[1;32m      4\u001b[0m \u001b[0;31m# this is a recent change from v 0.19\u001b[0m\u001b[0;34m\u001b[0m\u001b[0;34m\u001b[0m\u001b[0m\n\u001b[0;32m----> 5\u001b[0;31m \u001b[0mdf\u001b[0m\u001b[0;34m[\u001b[0m\u001b[0;34m[\u001b[0m\u001b[0;36m0\u001b[0m\u001b[0;34m]\u001b[0m\u001b[0;34m]\u001b[0m\u001b[0;34m\u001b[0m\u001b[0m\n\u001b[0m",
            "\u001b[0;32m/home/dchen/anaconda3/lib/python3.6/site-packages/pandas/core/frame.py\u001b[0m in \u001b[0;36m__getitem__\u001b[0;34m(self, key)\u001b[0m\n\u001b[1;32m   2054\u001b[0m         \u001b[0;32mif\u001b[0m \u001b[0misinstance\u001b[0m\u001b[0;34m(\u001b[0m\u001b[0mkey\u001b[0m\u001b[0;34m,\u001b[0m \u001b[0;34m(\u001b[0m\u001b[0mSeries\u001b[0m\u001b[0;34m,\u001b[0m \u001b[0mnp\u001b[0m\u001b[0;34m.\u001b[0m\u001b[0mndarray\u001b[0m\u001b[0;34m,\u001b[0m \u001b[0mIndex\u001b[0m\u001b[0;34m,\u001b[0m \u001b[0mlist\u001b[0m\u001b[0;34m)\u001b[0m\u001b[0;34m)\u001b[0m\u001b[0;34m:\u001b[0m\u001b[0;34m\u001b[0m\u001b[0m\n\u001b[1;32m   2055\u001b[0m             \u001b[0;31m# either boolean or fancy integer index\u001b[0m\u001b[0;34m\u001b[0m\u001b[0;34m\u001b[0m\u001b[0m\n\u001b[0;32m-> 2056\u001b[0;31m             \u001b[0;32mreturn\u001b[0m \u001b[0mself\u001b[0m\u001b[0;34m.\u001b[0m\u001b[0m_getitem_array\u001b[0m\u001b[0;34m(\u001b[0m\u001b[0mkey\u001b[0m\u001b[0;34m)\u001b[0m\u001b[0;34m\u001b[0m\u001b[0m\n\u001b[0m\u001b[1;32m   2057\u001b[0m         \u001b[0;32melif\u001b[0m \u001b[0misinstance\u001b[0m\u001b[0;34m(\u001b[0m\u001b[0mkey\u001b[0m\u001b[0;34m,\u001b[0m \u001b[0mDataFrame\u001b[0m\u001b[0;34m)\u001b[0m\u001b[0;34m:\u001b[0m\u001b[0;34m\u001b[0m\u001b[0m\n\u001b[1;32m   2058\u001b[0m             \u001b[0;32mreturn\u001b[0m \u001b[0mself\u001b[0m\u001b[0;34m.\u001b[0m\u001b[0m_getitem_frame\u001b[0m\u001b[0;34m(\u001b[0m\u001b[0mkey\u001b[0m\u001b[0;34m)\u001b[0m\u001b[0;34m\u001b[0m\u001b[0m\n",
            "\u001b[0;32m/home/dchen/anaconda3/lib/python3.6/site-packages/pandas/core/frame.py\u001b[0m in \u001b[0;36m_getitem_array\u001b[0;34m(self, key)\u001b[0m\n\u001b[1;32m   2098\u001b[0m             \u001b[0;32mreturn\u001b[0m \u001b[0mself\u001b[0m\u001b[0;34m.\u001b[0m\u001b[0mtake\u001b[0m\u001b[0;34m(\u001b[0m\u001b[0mindexer\u001b[0m\u001b[0;34m,\u001b[0m \u001b[0maxis\u001b[0m\u001b[0;34m=\u001b[0m\u001b[0;36m0\u001b[0m\u001b[0;34m,\u001b[0m \u001b[0mconvert\u001b[0m\u001b[0;34m=\u001b[0m\u001b[0;32mFalse\u001b[0m\u001b[0;34m)\u001b[0m\u001b[0;34m\u001b[0m\u001b[0m\n\u001b[1;32m   2099\u001b[0m         \u001b[0;32melse\u001b[0m\u001b[0;34m:\u001b[0m\u001b[0;34m\u001b[0m\u001b[0m\n\u001b[0;32m-> 2100\u001b[0;31m             \u001b[0mindexer\u001b[0m \u001b[0;34m=\u001b[0m \u001b[0mself\u001b[0m\u001b[0;34m.\u001b[0m\u001b[0mloc\u001b[0m\u001b[0;34m.\u001b[0m\u001b[0m_convert_to_indexer\u001b[0m\u001b[0;34m(\u001b[0m\u001b[0mkey\u001b[0m\u001b[0;34m,\u001b[0m \u001b[0maxis\u001b[0m\u001b[0;34m=\u001b[0m\u001b[0;36m1\u001b[0m\u001b[0;34m)\u001b[0m\u001b[0;34m\u001b[0m\u001b[0m\n\u001b[0m\u001b[1;32m   2101\u001b[0m             \u001b[0;32mreturn\u001b[0m \u001b[0mself\u001b[0m\u001b[0;34m.\u001b[0m\u001b[0mtake\u001b[0m\u001b[0;34m(\u001b[0m\u001b[0mindexer\u001b[0m\u001b[0;34m,\u001b[0m \u001b[0maxis\u001b[0m\u001b[0;34m=\u001b[0m\u001b[0;36m1\u001b[0m\u001b[0;34m,\u001b[0m \u001b[0mconvert\u001b[0m\u001b[0;34m=\u001b[0m\u001b[0;32mTrue\u001b[0m\u001b[0;34m)\u001b[0m\u001b[0;34m\u001b[0m\u001b[0m\n\u001b[1;32m   2102\u001b[0m \u001b[0;34m\u001b[0m\u001b[0m\n",
            "\u001b[0;32m/home/dchen/anaconda3/lib/python3.6/site-packages/pandas/core/indexing.py\u001b[0m in \u001b[0;36m_convert_to_indexer\u001b[0;34m(self, obj, axis, is_setter)\u001b[0m\n\u001b[1;32m   1229\u001b[0m                 \u001b[0mmask\u001b[0m \u001b[0;34m=\u001b[0m \u001b[0mcheck\u001b[0m \u001b[0;34m==\u001b[0m \u001b[0;34m-\u001b[0m\u001b[0;36m1\u001b[0m\u001b[0;34m\u001b[0m\u001b[0m\n\u001b[1;32m   1230\u001b[0m                 \u001b[0;32mif\u001b[0m \u001b[0mmask\u001b[0m\u001b[0;34m.\u001b[0m\u001b[0many\u001b[0m\u001b[0;34m(\u001b[0m\u001b[0;34m)\u001b[0m\u001b[0;34m:\u001b[0m\u001b[0;34m\u001b[0m\u001b[0m\n\u001b[0;32m-> 1231\u001b[0;31m                     \u001b[0;32mraise\u001b[0m \u001b[0mKeyError\u001b[0m\u001b[0;34m(\u001b[0m\u001b[0;34m'%s not in index'\u001b[0m \u001b[0;34m%\u001b[0m \u001b[0mobjarr\u001b[0m\u001b[0;34m[\u001b[0m\u001b[0mmask\u001b[0m\u001b[0;34m]\u001b[0m\u001b[0;34m)\u001b[0m\u001b[0;34m\u001b[0m\u001b[0m\n\u001b[0m\u001b[1;32m   1232\u001b[0m \u001b[0;34m\u001b[0m\u001b[0m\n\u001b[1;32m   1233\u001b[0m                 \u001b[0;32mreturn\u001b[0m \u001b[0m_values_from_object\u001b[0m\u001b[0;34m(\u001b[0m\u001b[0mindexer\u001b[0m\u001b[0;34m)\u001b[0m\u001b[0;34m\u001b[0m\u001b[0m\n",
            "\u001b[0;31mKeyError\u001b[0m: '[0] not in index'"
          ]
        }
      ]
    },
    {
      "cell_type": "code",
      "metadata": {
        "scrolled": true,
        "id": "OVtguMlY8yus",
        "outputId": "c0736002-5753-4775-d397-4c85c974a6bb"
      },
      "source": [
        "# seen often,\n",
        "# really used for convenience, don't rely on it\n",
        "# for example dropping or deleting columns\n",
        "df.country.head()"
      ],
      "execution_count": null,
      "outputs": [
        {
          "output_type": "execute_result",
          "data": {
            "text/plain": [
              "0    Afghanistan\n",
              "1    Afghanistan\n",
              "2    Afghanistan\n",
              "3    Afghanistan\n",
              "4    Afghanistan\n",
              "Name: country, dtype: object"
            ]
          },
          "metadata": {
            "tags": []
          },
          "execution_count": 18
        }
      ]
    },
    {
      "cell_type": "code",
      "metadata": {
        "scrolled": true,
        "id": "YlY8swfp8yuu",
        "outputId": "3f6bc8a6-dec6-4531-bb43-801c55127517"
      },
      "source": [
        "# delete columns\n",
        "# this will drop a column in-place\n",
        "del df['country']  # del df.country won't work\n",
        "\n",
        "# this won't unless you use the inplace parameter\n",
        "df.drop('continent', axis=1)"
      ],
      "execution_count": null,
      "outputs": [
        {
          "output_type": "execute_result",
          "data": {
            "text/html": [
              "<div>\n",
              "<style>\n",
              "    .dataframe thead tr:only-child th {\n",
              "        text-align: right;\n",
              "    }\n",
              "\n",
              "    .dataframe thead th {\n",
              "        text-align: left;\n",
              "    }\n",
              "\n",
              "    .dataframe tbody tr th {\n",
              "        vertical-align: top;\n",
              "    }\n",
              "</style>\n",
              "<table border=\"1\" class=\"dataframe\">\n",
              "  <thead>\n",
              "    <tr style=\"text-align: right;\">\n",
              "      <th></th>\n",
              "      <th>year</th>\n",
              "      <th>lifeExp</th>\n",
              "      <th>pop</th>\n",
              "      <th>gdpPercap</th>\n",
              "    </tr>\n",
              "  </thead>\n",
              "  <tbody>\n",
              "    <tr>\n",
              "      <th>0</th>\n",
              "      <td>1952</td>\n",
              "      <td>28.801</td>\n",
              "      <td>8425333</td>\n",
              "      <td>779.445314</td>\n",
              "    </tr>\n",
              "    <tr>\n",
              "      <th>1</th>\n",
              "      <td>1957</td>\n",
              "      <td>30.332</td>\n",
              "      <td>9240934</td>\n",
              "      <td>820.853030</td>\n",
              "    </tr>\n",
              "    <tr>\n",
              "      <th>2</th>\n",
              "      <td>1962</td>\n",
              "      <td>31.997</td>\n",
              "      <td>10267083</td>\n",
              "      <td>853.100710</td>\n",
              "    </tr>\n",
              "    <tr>\n",
              "      <th>3</th>\n",
              "      <td>1967</td>\n",
              "      <td>34.020</td>\n",
              "      <td>11537966</td>\n",
              "      <td>836.197138</td>\n",
              "    </tr>\n",
              "    <tr>\n",
              "      <th>4</th>\n",
              "      <td>1972</td>\n",
              "      <td>36.088</td>\n",
              "      <td>13079460</td>\n",
              "      <td>739.981106</td>\n",
              "    </tr>\n",
              "    <tr>\n",
              "      <th>5</th>\n",
              "      <td>1977</td>\n",
              "      <td>38.438</td>\n",
              "      <td>14880372</td>\n",
              "      <td>786.113360</td>\n",
              "    </tr>\n",
              "    <tr>\n",
              "      <th>6</th>\n",
              "      <td>1982</td>\n",
              "      <td>39.854</td>\n",
              "      <td>12881816</td>\n",
              "      <td>978.011439</td>\n",
              "    </tr>\n",
              "    <tr>\n",
              "      <th>7</th>\n",
              "      <td>1987</td>\n",
              "      <td>40.822</td>\n",
              "      <td>13867957</td>\n",
              "      <td>852.395945</td>\n",
              "    </tr>\n",
              "    <tr>\n",
              "      <th>8</th>\n",
              "      <td>1992</td>\n",
              "      <td>41.674</td>\n",
              "      <td>16317921</td>\n",
              "      <td>649.341395</td>\n",
              "    </tr>\n",
              "    <tr>\n",
              "      <th>9</th>\n",
              "      <td>1997</td>\n",
              "      <td>41.763</td>\n",
              "      <td>22227415</td>\n",
              "      <td>635.341351</td>\n",
              "    </tr>\n",
              "    <tr>\n",
              "      <th>10</th>\n",
              "      <td>2002</td>\n",
              "      <td>42.129</td>\n",
              "      <td>25268405</td>\n",
              "      <td>726.734055</td>\n",
              "    </tr>\n",
              "    <tr>\n",
              "      <th>11</th>\n",
              "      <td>2007</td>\n",
              "      <td>43.828</td>\n",
              "      <td>31889923</td>\n",
              "      <td>974.580338</td>\n",
              "    </tr>\n",
              "    <tr>\n",
              "      <th>12</th>\n",
              "      <td>1952</td>\n",
              "      <td>55.230</td>\n",
              "      <td>1282697</td>\n",
              "      <td>1601.056136</td>\n",
              "    </tr>\n",
              "    <tr>\n",
              "      <th>13</th>\n",
              "      <td>1957</td>\n",
              "      <td>59.280</td>\n",
              "      <td>1476505</td>\n",
              "      <td>1942.284244</td>\n",
              "    </tr>\n",
              "    <tr>\n",
              "      <th>14</th>\n",
              "      <td>1962</td>\n",
              "      <td>64.820</td>\n",
              "      <td>1728137</td>\n",
              "      <td>2312.888958</td>\n",
              "    </tr>\n",
              "    <tr>\n",
              "      <th>15</th>\n",
              "      <td>1967</td>\n",
              "      <td>66.220</td>\n",
              "      <td>1984060</td>\n",
              "      <td>2760.196931</td>\n",
              "    </tr>\n",
              "    <tr>\n",
              "      <th>16</th>\n",
              "      <td>1972</td>\n",
              "      <td>67.690</td>\n",
              "      <td>2263554</td>\n",
              "      <td>3313.422188</td>\n",
              "    </tr>\n",
              "    <tr>\n",
              "      <th>17</th>\n",
              "      <td>1977</td>\n",
              "      <td>68.930</td>\n",
              "      <td>2509048</td>\n",
              "      <td>3533.003910</td>\n",
              "    </tr>\n",
              "    <tr>\n",
              "      <th>18</th>\n",
              "      <td>1982</td>\n",
              "      <td>70.420</td>\n",
              "      <td>2780097</td>\n",
              "      <td>3630.880722</td>\n",
              "    </tr>\n",
              "    <tr>\n",
              "      <th>19</th>\n",
              "      <td>1987</td>\n",
              "      <td>72.000</td>\n",
              "      <td>3075321</td>\n",
              "      <td>3738.932735</td>\n",
              "    </tr>\n",
              "    <tr>\n",
              "      <th>20</th>\n",
              "      <td>1992</td>\n",
              "      <td>71.581</td>\n",
              "      <td>3326498</td>\n",
              "      <td>2497.437901</td>\n",
              "    </tr>\n",
              "    <tr>\n",
              "      <th>21</th>\n",
              "      <td>1997</td>\n",
              "      <td>72.950</td>\n",
              "      <td>3428038</td>\n",
              "      <td>3193.054604</td>\n",
              "    </tr>\n",
              "    <tr>\n",
              "      <th>22</th>\n",
              "      <td>2002</td>\n",
              "      <td>75.651</td>\n",
              "      <td>3508512</td>\n",
              "      <td>4604.211737</td>\n",
              "    </tr>\n",
              "    <tr>\n",
              "      <th>23</th>\n",
              "      <td>2007</td>\n",
              "      <td>76.423</td>\n",
              "      <td>3600523</td>\n",
              "      <td>5937.029526</td>\n",
              "    </tr>\n",
              "    <tr>\n",
              "      <th>24</th>\n",
              "      <td>1952</td>\n",
              "      <td>43.077</td>\n",
              "      <td>9279525</td>\n",
              "      <td>2449.008185</td>\n",
              "    </tr>\n",
              "    <tr>\n",
              "      <th>25</th>\n",
              "      <td>1957</td>\n",
              "      <td>45.685</td>\n",
              "      <td>10270856</td>\n",
              "      <td>3013.976023</td>\n",
              "    </tr>\n",
              "    <tr>\n",
              "      <th>26</th>\n",
              "      <td>1962</td>\n",
              "      <td>48.303</td>\n",
              "      <td>11000948</td>\n",
              "      <td>2550.816880</td>\n",
              "    </tr>\n",
              "    <tr>\n",
              "      <th>27</th>\n",
              "      <td>1967</td>\n",
              "      <td>51.407</td>\n",
              "      <td>12760499</td>\n",
              "      <td>3246.991771</td>\n",
              "    </tr>\n",
              "    <tr>\n",
              "      <th>28</th>\n",
              "      <td>1972</td>\n",
              "      <td>54.518</td>\n",
              "      <td>14760787</td>\n",
              "      <td>4182.663766</td>\n",
              "    </tr>\n",
              "    <tr>\n",
              "      <th>29</th>\n",
              "      <td>1977</td>\n",
              "      <td>58.014</td>\n",
              "      <td>17152804</td>\n",
              "      <td>4910.416756</td>\n",
              "    </tr>\n",
              "    <tr>\n",
              "      <th>...</th>\n",
              "      <td>...</td>\n",
              "      <td>...</td>\n",
              "      <td>...</td>\n",
              "      <td>...</td>\n",
              "    </tr>\n",
              "    <tr>\n",
              "      <th>1674</th>\n",
              "      <td>1982</td>\n",
              "      <td>49.113</td>\n",
              "      <td>9657618</td>\n",
              "      <td>1977.557010</td>\n",
              "    </tr>\n",
              "    <tr>\n",
              "      <th>1675</th>\n",
              "      <td>1987</td>\n",
              "      <td>52.922</td>\n",
              "      <td>11219340</td>\n",
              "      <td>1971.741538</td>\n",
              "    </tr>\n",
              "    <tr>\n",
              "      <th>1676</th>\n",
              "      <td>1992</td>\n",
              "      <td>55.599</td>\n",
              "      <td>13367997</td>\n",
              "      <td>1879.496673</td>\n",
              "    </tr>\n",
              "    <tr>\n",
              "      <th>1677</th>\n",
              "      <td>1997</td>\n",
              "      <td>58.020</td>\n",
              "      <td>15826497</td>\n",
              "      <td>2117.484526</td>\n",
              "    </tr>\n",
              "    <tr>\n",
              "      <th>1678</th>\n",
              "      <td>2002</td>\n",
              "      <td>60.308</td>\n",
              "      <td>18701257</td>\n",
              "      <td>2234.820827</td>\n",
              "    </tr>\n",
              "    <tr>\n",
              "      <th>1679</th>\n",
              "      <td>2007</td>\n",
              "      <td>62.698</td>\n",
              "      <td>22211743</td>\n",
              "      <td>2280.769906</td>\n",
              "    </tr>\n",
              "    <tr>\n",
              "      <th>1680</th>\n",
              "      <td>1952</td>\n",
              "      <td>42.038</td>\n",
              "      <td>2672000</td>\n",
              "      <td>1147.388831</td>\n",
              "    </tr>\n",
              "    <tr>\n",
              "      <th>1681</th>\n",
              "      <td>1957</td>\n",
              "      <td>44.077</td>\n",
              "      <td>3016000</td>\n",
              "      <td>1311.956766</td>\n",
              "    </tr>\n",
              "    <tr>\n",
              "      <th>1682</th>\n",
              "      <td>1962</td>\n",
              "      <td>46.023</td>\n",
              "      <td>3421000</td>\n",
              "      <td>1452.725766</td>\n",
              "    </tr>\n",
              "    <tr>\n",
              "      <th>1683</th>\n",
              "      <td>1967</td>\n",
              "      <td>47.768</td>\n",
              "      <td>3900000</td>\n",
              "      <td>1777.077318</td>\n",
              "    </tr>\n",
              "    <tr>\n",
              "      <th>1684</th>\n",
              "      <td>1972</td>\n",
              "      <td>50.107</td>\n",
              "      <td>4506497</td>\n",
              "      <td>1773.498265</td>\n",
              "    </tr>\n",
              "    <tr>\n",
              "      <th>1685</th>\n",
              "      <td>1977</td>\n",
              "      <td>51.386</td>\n",
              "      <td>5216550</td>\n",
              "      <td>1588.688299</td>\n",
              "    </tr>\n",
              "    <tr>\n",
              "      <th>1686</th>\n",
              "      <td>1982</td>\n",
              "      <td>51.821</td>\n",
              "      <td>6100407</td>\n",
              "      <td>1408.678565</td>\n",
              "    </tr>\n",
              "    <tr>\n",
              "      <th>1687</th>\n",
              "      <td>1987</td>\n",
              "      <td>50.821</td>\n",
              "      <td>7272406</td>\n",
              "      <td>1213.315116</td>\n",
              "    </tr>\n",
              "    <tr>\n",
              "      <th>1688</th>\n",
              "      <td>1992</td>\n",
              "      <td>46.100</td>\n",
              "      <td>8381163</td>\n",
              "      <td>1210.884633</td>\n",
              "    </tr>\n",
              "    <tr>\n",
              "      <th>1689</th>\n",
              "      <td>1997</td>\n",
              "      <td>40.238</td>\n",
              "      <td>9417789</td>\n",
              "      <td>1071.353818</td>\n",
              "    </tr>\n",
              "    <tr>\n",
              "      <th>1690</th>\n",
              "      <td>2002</td>\n",
              "      <td>39.193</td>\n",
              "      <td>10595811</td>\n",
              "      <td>1071.613938</td>\n",
              "    </tr>\n",
              "    <tr>\n",
              "      <th>1691</th>\n",
              "      <td>2007</td>\n",
              "      <td>42.384</td>\n",
              "      <td>11746035</td>\n",
              "      <td>1271.211593</td>\n",
              "    </tr>\n",
              "    <tr>\n",
              "      <th>1692</th>\n",
              "      <td>1952</td>\n",
              "      <td>48.451</td>\n",
              "      <td>3080907</td>\n",
              "      <td>406.884115</td>\n",
              "    </tr>\n",
              "    <tr>\n",
              "      <th>1693</th>\n",
              "      <td>1957</td>\n",
              "      <td>50.469</td>\n",
              "      <td>3646340</td>\n",
              "      <td>518.764268</td>\n",
              "    </tr>\n",
              "    <tr>\n",
              "      <th>1694</th>\n",
              "      <td>1962</td>\n",
              "      <td>52.358</td>\n",
              "      <td>4277736</td>\n",
              "      <td>527.272182</td>\n",
              "    </tr>\n",
              "    <tr>\n",
              "      <th>1695</th>\n",
              "      <td>1967</td>\n",
              "      <td>53.995</td>\n",
              "      <td>4995432</td>\n",
              "      <td>569.795071</td>\n",
              "    </tr>\n",
              "    <tr>\n",
              "      <th>1696</th>\n",
              "      <td>1972</td>\n",
              "      <td>55.635</td>\n",
              "      <td>5861135</td>\n",
              "      <td>799.362176</td>\n",
              "    </tr>\n",
              "    <tr>\n",
              "      <th>1697</th>\n",
              "      <td>1977</td>\n",
              "      <td>57.674</td>\n",
              "      <td>6642107</td>\n",
              "      <td>685.587682</td>\n",
              "    </tr>\n",
              "    <tr>\n",
              "      <th>1698</th>\n",
              "      <td>1982</td>\n",
              "      <td>60.363</td>\n",
              "      <td>7636524</td>\n",
              "      <td>788.855041</td>\n",
              "    </tr>\n",
              "    <tr>\n",
              "      <th>1699</th>\n",
              "      <td>1987</td>\n",
              "      <td>62.351</td>\n",
              "      <td>9216418</td>\n",
              "      <td>706.157306</td>\n",
              "    </tr>\n",
              "    <tr>\n",
              "      <th>1700</th>\n",
              "      <td>1992</td>\n",
              "      <td>60.377</td>\n",
              "      <td>10704340</td>\n",
              "      <td>693.420786</td>\n",
              "    </tr>\n",
              "    <tr>\n",
              "      <th>1701</th>\n",
              "      <td>1997</td>\n",
              "      <td>46.809</td>\n",
              "      <td>11404948</td>\n",
              "      <td>792.449960</td>\n",
              "    </tr>\n",
              "    <tr>\n",
              "      <th>1702</th>\n",
              "      <td>2002</td>\n",
              "      <td>39.989</td>\n",
              "      <td>11926563</td>\n",
              "      <td>672.038623</td>\n",
              "    </tr>\n",
              "    <tr>\n",
              "      <th>1703</th>\n",
              "      <td>2007</td>\n",
              "      <td>43.487</td>\n",
              "      <td>12311143</td>\n",
              "      <td>469.709298</td>\n",
              "    </tr>\n",
              "  </tbody>\n",
              "</table>\n",
              "<p>1704 rows × 4 columns</p>\n",
              "</div>"
            ],
            "text/plain": [
              "      year  lifeExp       pop    gdpPercap\n",
              "0     1952   28.801   8425333   779.445314\n",
              "1     1957   30.332   9240934   820.853030\n",
              "2     1962   31.997  10267083   853.100710\n",
              "3     1967   34.020  11537966   836.197138\n",
              "4     1972   36.088  13079460   739.981106\n",
              "5     1977   38.438  14880372   786.113360\n",
              "6     1982   39.854  12881816   978.011439\n",
              "7     1987   40.822  13867957   852.395945\n",
              "8     1992   41.674  16317921   649.341395\n",
              "9     1997   41.763  22227415   635.341351\n",
              "10    2002   42.129  25268405   726.734055\n",
              "11    2007   43.828  31889923   974.580338\n",
              "12    1952   55.230   1282697  1601.056136\n",
              "13    1957   59.280   1476505  1942.284244\n",
              "14    1962   64.820   1728137  2312.888958\n",
              "15    1967   66.220   1984060  2760.196931\n",
              "16    1972   67.690   2263554  3313.422188\n",
              "17    1977   68.930   2509048  3533.003910\n",
              "18    1982   70.420   2780097  3630.880722\n",
              "19    1987   72.000   3075321  3738.932735\n",
              "20    1992   71.581   3326498  2497.437901\n",
              "21    1997   72.950   3428038  3193.054604\n",
              "22    2002   75.651   3508512  4604.211737\n",
              "23    2007   76.423   3600523  5937.029526\n",
              "24    1952   43.077   9279525  2449.008185\n",
              "25    1957   45.685  10270856  3013.976023\n",
              "26    1962   48.303  11000948  2550.816880\n",
              "27    1967   51.407  12760499  3246.991771\n",
              "28    1972   54.518  14760787  4182.663766\n",
              "29    1977   58.014  17152804  4910.416756\n",
              "...    ...      ...       ...          ...\n",
              "1674  1982   49.113   9657618  1977.557010\n",
              "1675  1987   52.922  11219340  1971.741538\n",
              "1676  1992   55.599  13367997  1879.496673\n",
              "1677  1997   58.020  15826497  2117.484526\n",
              "1678  2002   60.308  18701257  2234.820827\n",
              "1679  2007   62.698  22211743  2280.769906\n",
              "1680  1952   42.038   2672000  1147.388831\n",
              "1681  1957   44.077   3016000  1311.956766\n",
              "1682  1962   46.023   3421000  1452.725766\n",
              "1683  1967   47.768   3900000  1777.077318\n",
              "1684  1972   50.107   4506497  1773.498265\n",
              "1685  1977   51.386   5216550  1588.688299\n",
              "1686  1982   51.821   6100407  1408.678565\n",
              "1687  1987   50.821   7272406  1213.315116\n",
              "1688  1992   46.100   8381163  1210.884633\n",
              "1689  1997   40.238   9417789  1071.353818\n",
              "1690  2002   39.193  10595811  1071.613938\n",
              "1691  2007   42.384  11746035  1271.211593\n",
              "1692  1952   48.451   3080907   406.884115\n",
              "1693  1957   50.469   3646340   518.764268\n",
              "1694  1962   52.358   4277736   527.272182\n",
              "1695  1967   53.995   4995432   569.795071\n",
              "1696  1972   55.635   5861135   799.362176\n",
              "1697  1977   57.674   6642107   685.587682\n",
              "1698  1982   60.363   7636524   788.855041\n",
              "1699  1987   62.351   9216418   706.157306\n",
              "1700  1992   60.377  10704340   693.420786\n",
              "1701  1997   46.809  11404948   792.449960\n",
              "1702  2002   39.989  11926563   672.038623\n",
              "1703  2007   43.487  12311143   469.709298\n",
              "\n",
              "[1704 rows x 4 columns]"
            ]
          },
          "metadata": {
            "tags": []
          },
          "execution_count": 19
        }
      ]
    },
    {
      "cell_type": "code",
      "metadata": {
        "id": "qxAhi1Uq8yuw",
        "outputId": "b63d83d1-c780-4e88-f7f1-165f81c3d870"
      },
      "source": [
        "df.head()"
      ],
      "execution_count": null,
      "outputs": [
        {
          "output_type": "execute_result",
          "data": {
            "text/html": [
              "<div>\n",
              "<style>\n",
              "    .dataframe thead tr:only-child th {\n",
              "        text-align: right;\n",
              "    }\n",
              "\n",
              "    .dataframe thead th {\n",
              "        text-align: left;\n",
              "    }\n",
              "\n",
              "    .dataframe tbody tr th {\n",
              "        vertical-align: top;\n",
              "    }\n",
              "</style>\n",
              "<table border=\"1\" class=\"dataframe\">\n",
              "  <thead>\n",
              "    <tr style=\"text-align: right;\">\n",
              "      <th></th>\n",
              "      <th>continent</th>\n",
              "      <th>year</th>\n",
              "      <th>lifeExp</th>\n",
              "      <th>pop</th>\n",
              "      <th>gdpPercap</th>\n",
              "    </tr>\n",
              "  </thead>\n",
              "  <tbody>\n",
              "    <tr>\n",
              "      <th>0</th>\n",
              "      <td>Asia</td>\n",
              "      <td>1952</td>\n",
              "      <td>28.801</td>\n",
              "      <td>8425333</td>\n",
              "      <td>779.445314</td>\n",
              "    </tr>\n",
              "    <tr>\n",
              "      <th>1</th>\n",
              "      <td>Asia</td>\n",
              "      <td>1957</td>\n",
              "      <td>30.332</td>\n",
              "      <td>9240934</td>\n",
              "      <td>820.853030</td>\n",
              "    </tr>\n",
              "    <tr>\n",
              "      <th>2</th>\n",
              "      <td>Asia</td>\n",
              "      <td>1962</td>\n",
              "      <td>31.997</td>\n",
              "      <td>10267083</td>\n",
              "      <td>853.100710</td>\n",
              "    </tr>\n",
              "    <tr>\n",
              "      <th>3</th>\n",
              "      <td>Asia</td>\n",
              "      <td>1967</td>\n",
              "      <td>34.020</td>\n",
              "      <td>11537966</td>\n",
              "      <td>836.197138</td>\n",
              "    </tr>\n",
              "    <tr>\n",
              "      <th>4</th>\n",
              "      <td>Asia</td>\n",
              "      <td>1972</td>\n",
              "      <td>36.088</td>\n",
              "      <td>13079460</td>\n",
              "      <td>739.981106</td>\n",
              "    </tr>\n",
              "  </tbody>\n",
              "</table>\n",
              "</div>"
            ],
            "text/plain": [
              "  continent  year  lifeExp       pop   gdpPercap\n",
              "0      Asia  1952   28.801   8425333  779.445314\n",
              "1      Asia  1957   30.332   9240934  820.853030\n",
              "2      Asia  1962   31.997  10267083  853.100710\n",
              "3      Asia  1967   34.020  11537966  836.197138\n",
              "4      Asia  1972   36.088  13079460  739.981106"
            ]
          },
          "metadata": {
            "tags": []
          },
          "execution_count": 20
        }
      ]
    },
    {
      "cell_type": "markdown",
      "metadata": {
        "id": "_jYWaUep8yuz"
      },
      "source": [
        "## Rows"
      ]
    },
    {
      "cell_type": "code",
      "metadata": {
        "collapsed": true,
        "id": "JtCYTBsm8yu0"
      },
      "source": [
        "# get our original data back\n",
        "df = pd.read_csv('../data/gapminder.tsv', delimiter='\\t')"
      ],
      "execution_count": null,
      "outputs": []
    },
    {
      "cell_type": "markdown",
      "metadata": {
        "id": "KqqYHdKC8yu4"
      },
      "source": [
        "### `loc`"
      ]
    },
    {
      "cell_type": "code",
      "metadata": {
        "id": "eJt5rlra8yu4",
        "outputId": "e4ab5034-6505-402e-d35f-2e9e3fb2afba"
      },
      "source": [
        "# first row\n",
        "df.loc[0]"
      ],
      "execution_count": null,
      "outputs": [
        {
          "output_type": "execute_result",
          "data": {
            "text/plain": [
              "country      Afghanistan\n",
              "continent           Asia\n",
              "year                1952\n",
              "lifeExp           28.801\n",
              "pop              8425333\n",
              "gdpPercap        779.445\n",
              "Name: 0, dtype: object"
            ]
          },
          "metadata": {
            "tags": []
          },
          "execution_count": 22
        }
      ]
    },
    {
      "cell_type": "code",
      "metadata": {
        "id": "N27exerZ8yu-",
        "outputId": "53626d87-b649-483c-8aa0-43ffce821ce2"
      },
      "source": [
        "# 100th row\n",
        "df.loc[99]"
      ],
      "execution_count": null,
      "outputs": [
        {
          "output_type": "execute_result",
          "data": {
            "text/plain": [
              "country      Bangladesh\n",
              "continent          Asia\n",
              "year               1967\n",
              "lifeExp          43.453\n",
              "pop            62821884\n",
              "gdpPercap       721.186\n",
              "Name: 99, dtype: object"
            ]
          },
          "metadata": {
            "tags": []
          },
          "execution_count": 23
        }
      ]
    },
    {
      "cell_type": "code",
      "metadata": {
        "id": "xk5RrvpW8yvB",
        "outputId": "3658bbeb-245c-4ded-f1a3-1d02eec121dc"
      },
      "source": [
        "# this will fail\n",
        "df.loc[-1]"
      ],
      "execution_count": null,
      "outputs": [
        {
          "output_type": "error",
          "ename": "KeyError",
          "evalue": "'the label [-1] is not in the [index]'",
          "traceback": [
            "\u001b[0;31m---------------------------------------------------------------------------\u001b[0m",
            "\u001b[0;31mKeyError\u001b[0m                                  Traceback (most recent call last)",
            "\u001b[0;32m/home/dchen/anaconda3/lib/python3.6/site-packages/pandas/core/indexing.py\u001b[0m in \u001b[0;36m_has_valid_type\u001b[0;34m(self, key, axis)\u001b[0m\n\u001b[1;32m   1433\u001b[0m                 \u001b[0;32mif\u001b[0m \u001b[0;32mnot\u001b[0m \u001b[0max\u001b[0m\u001b[0;34m.\u001b[0m\u001b[0mcontains\u001b[0m\u001b[0;34m(\u001b[0m\u001b[0mkey\u001b[0m\u001b[0;34m)\u001b[0m\u001b[0;34m:\u001b[0m\u001b[0;34m\u001b[0m\u001b[0m\n\u001b[0;32m-> 1434\u001b[0;31m                     \u001b[0merror\u001b[0m\u001b[0;34m(\u001b[0m\u001b[0;34m)\u001b[0m\u001b[0;34m\u001b[0m\u001b[0m\n\u001b[0m\u001b[1;32m   1435\u001b[0m             \u001b[0;32mexcept\u001b[0m \u001b[0mTypeError\u001b[0m \u001b[0;32mas\u001b[0m \u001b[0me\u001b[0m\u001b[0;34m:\u001b[0m\u001b[0;34m\u001b[0m\u001b[0m\n",
            "\u001b[0;32m/home/dchen/anaconda3/lib/python3.6/site-packages/pandas/core/indexing.py\u001b[0m in \u001b[0;36merror\u001b[0;34m()\u001b[0m\n\u001b[1;32m   1428\u001b[0m                 raise KeyError(\"the label [%s] is not in the [%s]\" %\n\u001b[0;32m-> 1429\u001b[0;31m                                (key, self.obj._get_axis_name(axis)))\n\u001b[0m\u001b[1;32m   1430\u001b[0m \u001b[0;34m\u001b[0m\u001b[0m\n",
            "\u001b[0;31mKeyError\u001b[0m: 'the label [-1] is not in the [index]'",
            "\nDuring handling of the above exception, another exception occurred:\n",
            "\u001b[0;31mKeyError\u001b[0m                                  Traceback (most recent call last)",
            "\u001b[0;32m<ipython-input-24-545fde78fdc0>\u001b[0m in \u001b[0;36m<module>\u001b[0;34m()\u001b[0m\n\u001b[1;32m      1\u001b[0m \u001b[0;31m# this will fail\u001b[0m\u001b[0;34m\u001b[0m\u001b[0;34m\u001b[0m\u001b[0m\n\u001b[0;32m----> 2\u001b[0;31m \u001b[0mdf\u001b[0m\u001b[0;34m.\u001b[0m\u001b[0mloc\u001b[0m\u001b[0;34m[\u001b[0m\u001b[0;34m-\u001b[0m\u001b[0;36m1\u001b[0m\u001b[0;34m]\u001b[0m\u001b[0;34m\u001b[0m\u001b[0m\n\u001b[0m",
            "\u001b[0;32m/home/dchen/anaconda3/lib/python3.6/site-packages/pandas/core/indexing.py\u001b[0m in \u001b[0;36m__getitem__\u001b[0;34m(self, key)\u001b[0m\n\u001b[1;32m   1326\u001b[0m         \u001b[0;32melse\u001b[0m\u001b[0;34m:\u001b[0m\u001b[0;34m\u001b[0m\u001b[0m\n\u001b[1;32m   1327\u001b[0m             \u001b[0mkey\u001b[0m \u001b[0;34m=\u001b[0m \u001b[0mcom\u001b[0m\u001b[0;34m.\u001b[0m\u001b[0m_apply_if_callable\u001b[0m\u001b[0;34m(\u001b[0m\u001b[0mkey\u001b[0m\u001b[0;34m,\u001b[0m \u001b[0mself\u001b[0m\u001b[0;34m.\u001b[0m\u001b[0mobj\u001b[0m\u001b[0;34m)\u001b[0m\u001b[0;34m\u001b[0m\u001b[0m\n\u001b[0;32m-> 1328\u001b[0;31m             \u001b[0;32mreturn\u001b[0m \u001b[0mself\u001b[0m\u001b[0;34m.\u001b[0m\u001b[0m_getitem_axis\u001b[0m\u001b[0;34m(\u001b[0m\u001b[0mkey\u001b[0m\u001b[0;34m,\u001b[0m \u001b[0maxis\u001b[0m\u001b[0;34m=\u001b[0m\u001b[0;36m0\u001b[0m\u001b[0;34m)\u001b[0m\u001b[0;34m\u001b[0m\u001b[0m\n\u001b[0m\u001b[1;32m   1329\u001b[0m \u001b[0;34m\u001b[0m\u001b[0m\n\u001b[1;32m   1330\u001b[0m     \u001b[0;32mdef\u001b[0m \u001b[0m_is_scalar_access\u001b[0m\u001b[0;34m(\u001b[0m\u001b[0mself\u001b[0m\u001b[0;34m,\u001b[0m \u001b[0mkey\u001b[0m\u001b[0;34m)\u001b[0m\u001b[0;34m:\u001b[0m\u001b[0;34m\u001b[0m\u001b[0m\n",
            "\u001b[0;32m/home/dchen/anaconda3/lib/python3.6/site-packages/pandas/core/indexing.py\u001b[0m in \u001b[0;36m_getitem_axis\u001b[0;34m(self, key, axis)\u001b[0m\n\u001b[1;32m   1549\u001b[0m \u001b[0;34m\u001b[0m\u001b[0m\n\u001b[1;32m   1550\u001b[0m         \u001b[0;31m# fall thru to straight lookup\u001b[0m\u001b[0;34m\u001b[0m\u001b[0;34m\u001b[0m\u001b[0m\n\u001b[0;32m-> 1551\u001b[0;31m         \u001b[0mself\u001b[0m\u001b[0;34m.\u001b[0m\u001b[0m_has_valid_type\u001b[0m\u001b[0;34m(\u001b[0m\u001b[0mkey\u001b[0m\u001b[0;34m,\u001b[0m \u001b[0maxis\u001b[0m\u001b[0;34m)\u001b[0m\u001b[0;34m\u001b[0m\u001b[0m\n\u001b[0m\u001b[1;32m   1552\u001b[0m         \u001b[0;32mreturn\u001b[0m \u001b[0mself\u001b[0m\u001b[0;34m.\u001b[0m\u001b[0m_get_label\u001b[0m\u001b[0;34m(\u001b[0m\u001b[0mkey\u001b[0m\u001b[0;34m,\u001b[0m \u001b[0maxis\u001b[0m\u001b[0;34m=\u001b[0m\u001b[0maxis\u001b[0m\u001b[0;34m)\u001b[0m\u001b[0;34m\u001b[0m\u001b[0m\n\u001b[1;32m   1553\u001b[0m \u001b[0;34m\u001b[0m\u001b[0m\n",
            "\u001b[0;32m/home/dchen/anaconda3/lib/python3.6/site-packages/pandas/core/indexing.py\u001b[0m in \u001b[0;36m_has_valid_type\u001b[0;34m(self, key, axis)\u001b[0m\n\u001b[1;32m   1440\u001b[0m                 \u001b[0;32mraise\u001b[0m\u001b[0;34m\u001b[0m\u001b[0m\n\u001b[1;32m   1441\u001b[0m             \u001b[0;32mexcept\u001b[0m\u001b[0;34m:\u001b[0m\u001b[0;34m\u001b[0m\u001b[0m\n\u001b[0;32m-> 1442\u001b[0;31m                 \u001b[0merror\u001b[0m\u001b[0;34m(\u001b[0m\u001b[0;34m)\u001b[0m\u001b[0;34m\u001b[0m\u001b[0m\n\u001b[0m\u001b[1;32m   1443\u001b[0m \u001b[0;34m\u001b[0m\u001b[0m\n\u001b[1;32m   1444\u001b[0m         \u001b[0;32mreturn\u001b[0m \u001b[0;32mTrue\u001b[0m\u001b[0;34m\u001b[0m\u001b[0m\n",
            "\u001b[0;32m/home/dchen/anaconda3/lib/python3.6/site-packages/pandas/core/indexing.py\u001b[0m in \u001b[0;36merror\u001b[0;34m()\u001b[0m\n\u001b[1;32m   1427\u001b[0m                                     \"key\")\n\u001b[1;32m   1428\u001b[0m                 raise KeyError(\"the label [%s] is not in the [%s]\" %\n\u001b[0;32m-> 1429\u001b[0;31m                                (key, self.obj._get_axis_name(axis)))\n\u001b[0m\u001b[1;32m   1430\u001b[0m \u001b[0;34m\u001b[0m\u001b[0m\n\u001b[1;32m   1431\u001b[0m             \u001b[0;32mtry\u001b[0m\u001b[0;34m:\u001b[0m\u001b[0;34m\u001b[0m\u001b[0m\n",
            "\u001b[0;31mKeyError\u001b[0m: 'the label [-1] is not in the [index]'"
          ]
        }
      ]
    },
    {
      "cell_type": "markdown",
      "metadata": {
        "id": "qhHGu_Sw8yvF"
      },
      "source": [
        "### `iloc`"
      ]
    },
    {
      "cell_type": "code",
      "metadata": {
        "id": "f_4U2ZIk8yvG",
        "outputId": "2f0809c8-4b50-4657-e759-648f5bccb7f0"
      },
      "source": [
        "df.iloc[0]"
      ],
      "execution_count": null,
      "outputs": [
        {
          "output_type": "execute_result",
          "data": {
            "text/plain": [
              "country      Afghanistan\n",
              "continent           Asia\n",
              "year                1952\n",
              "lifeExp           28.801\n",
              "pop              8425333\n",
              "gdpPercap        779.445\n",
              "Name: 0, dtype: object"
            ]
          },
          "metadata": {
            "tags": []
          },
          "execution_count": 25
        }
      ]
    },
    {
      "cell_type": "code",
      "metadata": {
        "id": "2a9nE2xZ8yvK",
        "outputId": "688d0839-81ba-454c-ad59-645170f35053"
      },
      "source": [
        "df.iloc[99]"
      ],
      "execution_count": null,
      "outputs": [
        {
          "output_type": "execute_result",
          "data": {
            "text/plain": [
              "country      Bangladesh\n",
              "continent          Asia\n",
              "year               1967\n",
              "lifeExp          43.453\n",
              "pop            62821884\n",
              "gdpPercap       721.186\n",
              "Name: 99, dtype: object"
            ]
          },
          "metadata": {
            "tags": []
          },
          "execution_count": 26
        }
      ]
    },
    {
      "cell_type": "code",
      "metadata": {
        "id": "tz4anmQJ8yvN",
        "outputId": "20c64cef-0535-4e91-9895-295401ce01a3"
      },
      "source": [
        "df.iloc[-1]"
      ],
      "execution_count": null,
      "outputs": [
        {
          "output_type": "execute_result",
          "data": {
            "text/plain": [
              "country      Zimbabwe\n",
              "continent      Africa\n",
              "year             2007\n",
              "lifeExp        43.487\n",
              "pop          12311143\n",
              "gdpPercap     469.709\n",
              "Name: 1703, dtype: object"
            ]
          },
          "metadata": {
            "tags": []
          },
          "execution_count": 27
        }
      ]
    },
    {
      "cell_type": "markdown",
      "metadata": {
        "id": "4lKUTp8h8yvP"
      },
      "source": [
        "### `ix`"
      ]
    },
    {
      "cell_type": "code",
      "metadata": {
        "id": "WlnaAi5T8yvQ",
        "outputId": "6c9fd470-c934-40ad-a528-e9d5b5093c2c"
      },
      "source": [
        "# labels first, then by index\n",
        "# deprecated\n",
        "df.ix[0]"
      ],
      "execution_count": null,
      "outputs": [
        {
          "output_type": "stream",
          "text": [
            "/home/dchen/anaconda3/lib/python3.6/site-packages/ipykernel_launcher.py:3: DeprecationWarning: \n",
            ".ix is deprecated. Please use\n",
            ".loc for label based indexing or\n",
            ".iloc for positional indexing\n",
            "\n",
            "See the documentation here:\n",
            "http://pandas.pydata.org/pandas-docs/stable/indexing.html#deprecate_ix\n",
            "  This is separate from the ipykernel package so we can avoid doing imports until\n"
          ],
          "name": "stderr"
        },
        {
          "output_type": "execute_result",
          "data": {
            "text/plain": [
              "country      Afghanistan\n",
              "continent           Asia\n",
              "year                1952\n",
              "lifeExp           28.801\n",
              "pop              8425333\n",
              "gdpPercap        779.445\n",
              "Name: 0, dtype: object"
            ]
          },
          "metadata": {
            "tags": []
          },
          "execution_count": 28
        }
      ]
    },
    {
      "cell_type": "code",
      "metadata": {
        "id": "KOdv1hqP8yvT",
        "outputId": "2930f230-4240-4842-955f-5e6731ce7ea4"
      },
      "source": [
        "df.ix[[0, 99, 999]]"
      ],
      "execution_count": null,
      "outputs": [
        {
          "output_type": "execute_result",
          "data": {
            "text/html": [
              "<div>\n",
              "<style>\n",
              "    .dataframe thead tr:only-child th {\n",
              "        text-align: right;\n",
              "    }\n",
              "\n",
              "    .dataframe thead th {\n",
              "        text-align: left;\n",
              "    }\n",
              "\n",
              "    .dataframe tbody tr th {\n",
              "        vertical-align: top;\n",
              "    }\n",
              "</style>\n",
              "<table border=\"1\" class=\"dataframe\">\n",
              "  <thead>\n",
              "    <tr style=\"text-align: right;\">\n",
              "      <th></th>\n",
              "      <th>country</th>\n",
              "      <th>continent</th>\n",
              "      <th>year</th>\n",
              "      <th>lifeExp</th>\n",
              "      <th>pop</th>\n",
              "      <th>gdpPercap</th>\n",
              "    </tr>\n",
              "  </thead>\n",
              "  <tbody>\n",
              "    <tr>\n",
              "      <th>0</th>\n",
              "      <td>Afghanistan</td>\n",
              "      <td>Asia</td>\n",
              "      <td>1952</td>\n",
              "      <td>28.801</td>\n",
              "      <td>8425333</td>\n",
              "      <td>779.445314</td>\n",
              "    </tr>\n",
              "    <tr>\n",
              "      <th>99</th>\n",
              "      <td>Bangladesh</td>\n",
              "      <td>Asia</td>\n",
              "      <td>1967</td>\n",
              "      <td>43.453</td>\n",
              "      <td>62821884</td>\n",
              "      <td>721.186086</td>\n",
              "    </tr>\n",
              "    <tr>\n",
              "      <th>999</th>\n",
              "      <td>Mongolia</td>\n",
              "      <td>Asia</td>\n",
              "      <td>1967</td>\n",
              "      <td>51.253</td>\n",
              "      <td>1149500</td>\n",
              "      <td>1226.041130</td>\n",
              "    </tr>\n",
              "  </tbody>\n",
              "</table>\n",
              "</div>"
            ],
            "text/plain": [
              "         country continent  year  lifeExp       pop    gdpPercap\n",
              "0    Afghanistan      Asia  1952   28.801   8425333   779.445314\n",
              "99    Bangladesh      Asia  1967   43.453  62821884   721.186086\n",
              "999     Mongolia      Asia  1967   51.253   1149500  1226.041130"
            ]
          },
          "metadata": {
            "tags": []
          },
          "execution_count": 29
        }
      ]
    },
    {
      "cell_type": "markdown",
      "metadata": {
        "id": "VACRNlw88yvX"
      },
      "source": [
        "## Rows and columns"
      ]
    },
    {
      "cell_type": "code",
      "metadata": {
        "id": "nIYRy0uz8yvX",
        "outputId": "7f5b241e-706e-4d44-ec1a-42c95ff8c506"
      },
      "source": [
        "# the bracket notation\n",
        "# row subsetter\n",
        "# comma\n",
        "# column subsetter\n",
        "df.ix[[0, 99, 999], ['country', 'lifeExp', 'GdpPercap']]"
      ],
      "execution_count": null,
      "outputs": [
        {
          "output_type": "execute_result",
          "data": {
            "text/html": [
              "<div>\n",
              "<style>\n",
              "    .dataframe thead tr:only-child th {\n",
              "        text-align: right;\n",
              "    }\n",
              "\n",
              "    .dataframe thead th {\n",
              "        text-align: left;\n",
              "    }\n",
              "\n",
              "    .dataframe tbody tr th {\n",
              "        vertical-align: top;\n",
              "    }\n",
              "</style>\n",
              "<table border=\"1\" class=\"dataframe\">\n",
              "  <thead>\n",
              "    <tr style=\"text-align: right;\">\n",
              "      <th></th>\n",
              "      <th>country</th>\n",
              "      <th>lifeExp</th>\n",
              "      <th>GdpPercap</th>\n",
              "    </tr>\n",
              "  </thead>\n",
              "  <tbody>\n",
              "    <tr>\n",
              "      <th>0</th>\n",
              "      <td>Afghanistan</td>\n",
              "      <td>28.801</td>\n",
              "      <td>NaN</td>\n",
              "    </tr>\n",
              "    <tr>\n",
              "      <th>99</th>\n",
              "      <td>Bangladesh</td>\n",
              "      <td>43.453</td>\n",
              "      <td>NaN</td>\n",
              "    </tr>\n",
              "    <tr>\n",
              "      <th>999</th>\n",
              "      <td>Mongolia</td>\n",
              "      <td>51.253</td>\n",
              "      <td>NaN</td>\n",
              "    </tr>\n",
              "  </tbody>\n",
              "</table>\n",
              "</div>"
            ],
            "text/plain": [
              "         country  lifeExp  GdpPercap\n",
              "0    Afghanistan   28.801        NaN\n",
              "99    Bangladesh   43.453        NaN\n",
              "999     Mongolia   51.253        NaN"
            ]
          },
          "metadata": {
            "tags": []
          },
          "execution_count": 30
        }
      ]
    },
    {
      "cell_type": "code",
      "metadata": {
        "id": "AXgoURLP8yva",
        "outputId": "7e8133c7-db1c-4017-85f7-700aa08801a5"
      },
      "source": [
        "df.iloc[[0, 99, 999], [0, 3, 5]]"
      ],
      "execution_count": null,
      "outputs": [
        {
          "output_type": "execute_result",
          "data": {
            "text/html": [
              "<div>\n",
              "<style>\n",
              "    .dataframe thead tr:only-child th {\n",
              "        text-align: right;\n",
              "    }\n",
              "\n",
              "    .dataframe thead th {\n",
              "        text-align: left;\n",
              "    }\n",
              "\n",
              "    .dataframe tbody tr th {\n",
              "        vertical-align: top;\n",
              "    }\n",
              "</style>\n",
              "<table border=\"1\" class=\"dataframe\">\n",
              "  <thead>\n",
              "    <tr style=\"text-align: right;\">\n",
              "      <th></th>\n",
              "      <th>country</th>\n",
              "      <th>lifeExp</th>\n",
              "      <th>gdpPercap</th>\n",
              "    </tr>\n",
              "  </thead>\n",
              "  <tbody>\n",
              "    <tr>\n",
              "      <th>0</th>\n",
              "      <td>Afghanistan</td>\n",
              "      <td>28.801</td>\n",
              "      <td>779.445314</td>\n",
              "    </tr>\n",
              "    <tr>\n",
              "      <th>99</th>\n",
              "      <td>Bangladesh</td>\n",
              "      <td>43.453</td>\n",
              "      <td>721.186086</td>\n",
              "    </tr>\n",
              "    <tr>\n",
              "      <th>999</th>\n",
              "      <td>Mongolia</td>\n",
              "      <td>51.253</td>\n",
              "      <td>1226.041130</td>\n",
              "    </tr>\n",
              "  </tbody>\n",
              "</table>\n",
              "</div>"
            ],
            "text/plain": [
              "         country  lifeExp    gdpPercap\n",
              "0    Afghanistan   28.801   779.445314\n",
              "99    Bangladesh   43.453   721.186086\n",
              "999     Mongolia   51.253  1226.041130"
            ]
          },
          "metadata": {
            "tags": []
          },
          "execution_count": 31
        }
      ]
    },
    {
      "cell_type": "code",
      "metadata": {
        "id": "OmsgLuVL8yvc",
        "outputId": "45fcaf07-58ad-48b0-a733-77436f323d9b"
      },
      "source": [
        "df.loc[(df.country == 'United States') & (df.year == 1982), :]"
      ],
      "execution_count": null,
      "outputs": [
        {
          "output_type": "execute_result",
          "data": {
            "text/html": [
              "<div>\n",
              "<style>\n",
              "    .dataframe thead tr:only-child th {\n",
              "        text-align: right;\n",
              "    }\n",
              "\n",
              "    .dataframe thead th {\n",
              "        text-align: left;\n",
              "    }\n",
              "\n",
              "    .dataframe tbody tr th {\n",
              "        vertical-align: top;\n",
              "    }\n",
              "</style>\n",
              "<table border=\"1\" class=\"dataframe\">\n",
              "  <thead>\n",
              "    <tr style=\"text-align: right;\">\n",
              "      <th></th>\n",
              "      <th>country</th>\n",
              "      <th>continent</th>\n",
              "      <th>year</th>\n",
              "      <th>lifeExp</th>\n",
              "      <th>pop</th>\n",
              "      <th>gdpPercap</th>\n",
              "    </tr>\n",
              "  </thead>\n",
              "  <tbody>\n",
              "    <tr>\n",
              "      <th>1614</th>\n",
              "      <td>United States</td>\n",
              "      <td>Americas</td>\n",
              "      <td>1982</td>\n",
              "      <td>74.65</td>\n",
              "      <td>232187835</td>\n",
              "      <td>25009.55914</td>\n",
              "    </tr>\n",
              "  </tbody>\n",
              "</table>\n",
              "</div>"
            ],
            "text/plain": [
              "            country continent  year  lifeExp        pop    gdpPercap\n",
              "1614  United States  Americas  1982    74.65  232187835  25009.55914"
            ]
          },
          "metadata": {
            "tags": []
          },
          "execution_count": 32
        }
      ]
    },
    {
      "cell_type": "code",
      "metadata": {
        "id": "S70hN0rZ8yve",
        "outputId": "b04e6d03-e160-4ae0-c4d9-8994811b67f1"
      },
      "source": [
        "le_mean = df.lifeExp.mean()\n",
        "le_mean"
      ],
      "execution_count": null,
      "outputs": [
        {
          "output_type": "execute_result",
          "data": {
            "text/plain": [
              "59.47443936619713"
            ]
          },
          "metadata": {
            "tags": []
          },
          "execution_count": 33
        }
      ]
    },
    {
      "cell_type": "code",
      "metadata": {
        "id": "VabizPWi8yvh",
        "outputId": "2c968542-4148-4b00-8fc8-8541104b5b40"
      },
      "source": [
        "df.loc[df.lifeExp > le_mean, 'country'].unique()"
      ],
      "execution_count": null,
      "outputs": [
        {
          "output_type": "execute_result",
          "data": {
            "text/plain": [
              "array(['Albania', 'Algeria', 'Argentina', 'Australia', 'Austria',\n",
              "       'Bahrain', 'Bangladesh', 'Belgium', 'Bolivia',\n",
              "       'Bosnia and Herzegovina', 'Botswana', 'Brazil', 'Bulgaria',\n",
              "       'Cambodia', 'Canada', 'Chile', 'China', 'Colombia', 'Comoros',\n",
              "       'Costa Rica', 'Croatia', 'Cuba', 'Czech Republic', 'Denmark',\n",
              "       'Dominican Republic', 'Ecuador', 'Egypt', 'El Salvador', 'Finland',\n",
              "       'France', 'Gabon', 'Germany', 'Ghana', 'Greece', 'Guatemala',\n",
              "       'Haiti', 'Honduras', 'Hong Kong, China', 'Hungary', 'Iceland',\n",
              "       'India', 'Indonesia', 'Iran', 'Iraq', 'Ireland', 'Israel', 'Italy',\n",
              "       'Jamaica', 'Japan', 'Jordan', 'Korea, Dem. Rep.', 'Korea, Rep.',\n",
              "       'Kuwait', 'Lebanon', 'Lesotho', 'Libya', 'Malaysia', 'Mauritania',\n",
              "       'Mauritius', 'Mexico', 'Mongolia', 'Montenegro', 'Morocco',\n",
              "       'Myanmar', 'Namibia', 'Nepal', 'Netherlands', 'New Zealand',\n",
              "       'Nicaragua', 'Norway', 'Oman', 'Pakistan', 'Panama', 'Paraguay',\n",
              "       'Peru', 'Philippines', 'Poland', 'Portugal', 'Puerto Rico',\n",
              "       'Reunion', 'Romania', 'Sao Tome and Principe', 'Saudi Arabia',\n",
              "       'Senegal', 'Serbia', 'Singapore', 'Slovak Republic', 'Slovenia',\n",
              "       'South Africa', 'Spain', 'Sri Lanka', 'Sweden', 'Switzerland',\n",
              "       'Syria', 'Taiwan', 'Thailand', 'Trinidad and Tobago', 'Tunisia',\n",
              "       'Turkey', 'United Kingdom', 'United States', 'Uruguay', 'Venezuela',\n",
              "       'Vietnam', 'West Bank and Gaza', 'Yemen, Rep.', 'Zimbabwe'], dtype=object)"
            ]
          },
          "metadata": {
            "tags": []
          },
          "execution_count": 34
        }
      ]
    },
    {
      "cell_type": "markdown",
      "metadata": {
        "id": "m0SG19_L8yvm"
      },
      "source": [
        "# grouped and aggregated calculations"
      ]
    },
    {
      "cell_type": "markdown",
      "metadata": {
        "id": "KXefAv-K8yvn"
      },
      "source": [
        "Look at all the cool things dataframes and series objects can do!\n",
        "\n",
        "- https://pandas.pydata.org/pandas-docs/stable/generated/pandas.DataFrame.html\n",
        "- https://pandas.pydata.org/pandas-docs/stable/generated/pandas.Series.html"
      ]
    },
    {
      "cell_type": "code",
      "metadata": {
        "id": "1B9nle6S8yvn",
        "outputId": "58b4952a-6021-4c9e-b371-0ae8cff25f98"
      },
      "source": [
        "df.head(n=10)"
      ],
      "execution_count": null,
      "outputs": [
        {
          "output_type": "execute_result",
          "data": {
            "text/html": [
              "<div>\n",
              "<style>\n",
              "    .dataframe thead tr:only-child th {\n",
              "        text-align: right;\n",
              "    }\n",
              "\n",
              "    .dataframe thead th {\n",
              "        text-align: left;\n",
              "    }\n",
              "\n",
              "    .dataframe tbody tr th {\n",
              "        vertical-align: top;\n",
              "    }\n",
              "</style>\n",
              "<table border=\"1\" class=\"dataframe\">\n",
              "  <thead>\n",
              "    <tr style=\"text-align: right;\">\n",
              "      <th></th>\n",
              "      <th>country</th>\n",
              "      <th>continent</th>\n",
              "      <th>year</th>\n",
              "      <th>lifeExp</th>\n",
              "      <th>pop</th>\n",
              "      <th>gdpPercap</th>\n",
              "    </tr>\n",
              "  </thead>\n",
              "  <tbody>\n",
              "    <tr>\n",
              "      <th>0</th>\n",
              "      <td>Afghanistan</td>\n",
              "      <td>Asia</td>\n",
              "      <td>1952</td>\n",
              "      <td>28.801</td>\n",
              "      <td>8425333</td>\n",
              "      <td>779.445314</td>\n",
              "    </tr>\n",
              "    <tr>\n",
              "      <th>1</th>\n",
              "      <td>Afghanistan</td>\n",
              "      <td>Asia</td>\n",
              "      <td>1957</td>\n",
              "      <td>30.332</td>\n",
              "      <td>9240934</td>\n",
              "      <td>820.853030</td>\n",
              "    </tr>\n",
              "    <tr>\n",
              "      <th>2</th>\n",
              "      <td>Afghanistan</td>\n",
              "      <td>Asia</td>\n",
              "      <td>1962</td>\n",
              "      <td>31.997</td>\n",
              "      <td>10267083</td>\n",
              "      <td>853.100710</td>\n",
              "    </tr>\n",
              "    <tr>\n",
              "      <th>3</th>\n",
              "      <td>Afghanistan</td>\n",
              "      <td>Asia</td>\n",
              "      <td>1967</td>\n",
              "      <td>34.020</td>\n",
              "      <td>11537966</td>\n",
              "      <td>836.197138</td>\n",
              "    </tr>\n",
              "    <tr>\n",
              "      <th>4</th>\n",
              "      <td>Afghanistan</td>\n",
              "      <td>Asia</td>\n",
              "      <td>1972</td>\n",
              "      <td>36.088</td>\n",
              "      <td>13079460</td>\n",
              "      <td>739.981106</td>\n",
              "    </tr>\n",
              "    <tr>\n",
              "      <th>5</th>\n",
              "      <td>Afghanistan</td>\n",
              "      <td>Asia</td>\n",
              "      <td>1977</td>\n",
              "      <td>38.438</td>\n",
              "      <td>14880372</td>\n",
              "      <td>786.113360</td>\n",
              "    </tr>\n",
              "    <tr>\n",
              "      <th>6</th>\n",
              "      <td>Afghanistan</td>\n",
              "      <td>Asia</td>\n",
              "      <td>1982</td>\n",
              "      <td>39.854</td>\n",
              "      <td>12881816</td>\n",
              "      <td>978.011439</td>\n",
              "    </tr>\n",
              "    <tr>\n",
              "      <th>7</th>\n",
              "      <td>Afghanistan</td>\n",
              "      <td>Asia</td>\n",
              "      <td>1987</td>\n",
              "      <td>40.822</td>\n",
              "      <td>13867957</td>\n",
              "      <td>852.395945</td>\n",
              "    </tr>\n",
              "    <tr>\n",
              "      <th>8</th>\n",
              "      <td>Afghanistan</td>\n",
              "      <td>Asia</td>\n",
              "      <td>1992</td>\n",
              "      <td>41.674</td>\n",
              "      <td>16317921</td>\n",
              "      <td>649.341395</td>\n",
              "    </tr>\n",
              "    <tr>\n",
              "      <th>9</th>\n",
              "      <td>Afghanistan</td>\n",
              "      <td>Asia</td>\n",
              "      <td>1997</td>\n",
              "      <td>41.763</td>\n",
              "      <td>22227415</td>\n",
              "      <td>635.341351</td>\n",
              "    </tr>\n",
              "  </tbody>\n",
              "</table>\n",
              "</div>"
            ],
            "text/plain": [
              "       country continent  year  lifeExp       pop   gdpPercap\n",
              "0  Afghanistan      Asia  1952   28.801   8425333  779.445314\n",
              "1  Afghanistan      Asia  1957   30.332   9240934  820.853030\n",
              "2  Afghanistan      Asia  1962   31.997  10267083  853.100710\n",
              "3  Afghanistan      Asia  1967   34.020  11537966  836.197138\n",
              "4  Afghanistan      Asia  1972   36.088  13079460  739.981106\n",
              "5  Afghanistan      Asia  1977   38.438  14880372  786.113360\n",
              "6  Afghanistan      Asia  1982   39.854  12881816  978.011439\n",
              "7  Afghanistan      Asia  1987   40.822  13867957  852.395945\n",
              "8  Afghanistan      Asia  1992   41.674  16317921  649.341395\n",
              "9  Afghanistan      Asia  1997   41.763  22227415  635.341351"
            ]
          },
          "metadata": {
            "tags": []
          },
          "execution_count": 35
        }
      ]
    },
    {
      "cell_type": "code",
      "metadata": {
        "id": "sm8HTxZ18yvq",
        "outputId": "8ea964ab-1d7c-41ca-e9f0-e0b02bab5c63"
      },
      "source": [
        "df.groupby('year')"
      ],
      "execution_count": null,
      "outputs": [
        {
          "output_type": "execute_result",
          "data": {
            "text/plain": [
              "<pandas.core.groupby.DataFrameGroupBy object at 0x7fa12d923908>"
            ]
          },
          "metadata": {
            "tags": []
          },
          "execution_count": 36
        }
      ]
    },
    {
      "cell_type": "code",
      "metadata": {
        "id": "Nm9ctsGL8yvs",
        "outputId": "3f7028c7-2888-4cc9-db36-5aaa27c8adb0"
      },
      "source": [
        "df.groupby('year')['lifeExp']"
      ],
      "execution_count": null,
      "outputs": [
        {
          "output_type": "execute_result",
          "data": {
            "text/plain": [
              "<pandas.core.groupby.SeriesGroupBy object at 0x7fa12d9232b0>"
            ]
          },
          "metadata": {
            "tags": []
          },
          "execution_count": 37
        }
      ]
    },
    {
      "cell_type": "code",
      "metadata": {
        "id": "6FXuz4_f8yvu",
        "outputId": "d7ef4746-8548-4b2b-dad6-b18e38138d7d"
      },
      "source": [
        "df.groupby('year')['lifeExp'].mean()"
      ],
      "execution_count": null,
      "outputs": [
        {
          "output_type": "execute_result",
          "data": {
            "text/plain": [
              "year\n",
              "1952    49.057620\n",
              "1957    51.507401\n",
              "1962    53.609249\n",
              "1967    55.678290\n",
              "1972    57.647386\n",
              "1977    59.570157\n",
              "1982    61.533197\n",
              "1987    63.212613\n",
              "1992    64.160338\n",
              "1997    65.014676\n",
              "2002    65.694923\n",
              "2007    67.007423\n",
              "Name: lifeExp, dtype: float64"
            ]
          },
          "metadata": {
            "tags": []
          },
          "execution_count": 38
        }
      ]
    },
    {
      "cell_type": "code",
      "metadata": {
        "id": "0OMizpJC8yvz",
        "outputId": "0968a3c3-c912-426f-ccbe-9fd5eaff4e0f"
      },
      "source": [
        "df.groupby('year')[['lifeExp', 'gdpPercap']].mean()"
      ],
      "execution_count": null,
      "outputs": [
        {
          "output_type": "execute_result",
          "data": {
            "text/html": [
              "<div>\n",
              "<style>\n",
              "    .dataframe thead tr:only-child th {\n",
              "        text-align: right;\n",
              "    }\n",
              "\n",
              "    .dataframe thead th {\n",
              "        text-align: left;\n",
              "    }\n",
              "\n",
              "    .dataframe tbody tr th {\n",
              "        vertical-align: top;\n",
              "    }\n",
              "</style>\n",
              "<table border=\"1\" class=\"dataframe\">\n",
              "  <thead>\n",
              "    <tr style=\"text-align: right;\">\n",
              "      <th></th>\n",
              "      <th>lifeExp</th>\n",
              "      <th>gdpPercap</th>\n",
              "    </tr>\n",
              "    <tr>\n",
              "      <th>year</th>\n",
              "      <th></th>\n",
              "      <th></th>\n",
              "    </tr>\n",
              "  </thead>\n",
              "  <tbody>\n",
              "    <tr>\n",
              "      <th>1952</th>\n",
              "      <td>49.057620</td>\n",
              "      <td>3725.276046</td>\n",
              "    </tr>\n",
              "    <tr>\n",
              "      <th>1957</th>\n",
              "      <td>51.507401</td>\n",
              "      <td>4299.408345</td>\n",
              "    </tr>\n",
              "    <tr>\n",
              "      <th>1962</th>\n",
              "      <td>53.609249</td>\n",
              "      <td>4725.812342</td>\n",
              "    </tr>\n",
              "    <tr>\n",
              "      <th>1967</th>\n",
              "      <td>55.678290</td>\n",
              "      <td>5483.653047</td>\n",
              "    </tr>\n",
              "    <tr>\n",
              "      <th>1972</th>\n",
              "      <td>57.647386</td>\n",
              "      <td>6770.082815</td>\n",
              "    </tr>\n",
              "    <tr>\n",
              "      <th>1977</th>\n",
              "      <td>59.570157</td>\n",
              "      <td>7313.166421</td>\n",
              "    </tr>\n",
              "    <tr>\n",
              "      <th>1982</th>\n",
              "      <td>61.533197</td>\n",
              "      <td>7518.901673</td>\n",
              "    </tr>\n",
              "    <tr>\n",
              "      <th>1987</th>\n",
              "      <td>63.212613</td>\n",
              "      <td>7900.920218</td>\n",
              "    </tr>\n",
              "    <tr>\n",
              "      <th>1992</th>\n",
              "      <td>64.160338</td>\n",
              "      <td>8158.608521</td>\n",
              "    </tr>\n",
              "    <tr>\n",
              "      <th>1997</th>\n",
              "      <td>65.014676</td>\n",
              "      <td>9090.175363</td>\n",
              "    </tr>\n",
              "    <tr>\n",
              "      <th>2002</th>\n",
              "      <td>65.694923</td>\n",
              "      <td>9917.848365</td>\n",
              "    </tr>\n",
              "    <tr>\n",
              "      <th>2007</th>\n",
              "      <td>67.007423</td>\n",
              "      <td>11680.071820</td>\n",
              "    </tr>\n",
              "  </tbody>\n",
              "</table>\n",
              "</div>"
            ],
            "text/plain": [
              "        lifeExp     gdpPercap\n",
              "year                         \n",
              "1952  49.057620   3725.276046\n",
              "1957  51.507401   4299.408345\n",
              "1962  53.609249   4725.812342\n",
              "1967  55.678290   5483.653047\n",
              "1972  57.647386   6770.082815\n",
              "1977  59.570157   7313.166421\n",
              "1982  61.533197   7518.901673\n",
              "1987  63.212613   7900.920218\n",
              "1992  64.160338   8158.608521\n",
              "1997  65.014676   9090.175363\n",
              "2002  65.694923   9917.848365\n",
              "2007  67.007423  11680.071820"
            ]
          },
          "metadata": {
            "tags": []
          },
          "execution_count": 39
        }
      ]
    },
    {
      "cell_type": "code",
      "metadata": {
        "id": "OoJIUf7E8yv4",
        "outputId": "d7b09a97-0ccf-45cb-c528-97d5c9ff4821"
      },
      "source": [
        "df.groupby(['year', 'continent'])[['lifeExp', 'gdpPercap']].mean()"
      ],
      "execution_count": null,
      "outputs": [
        {
          "output_type": "execute_result",
          "data": {
            "text/html": [
              "<div>\n",
              "<style>\n",
              "    .dataframe thead tr:only-child th {\n",
              "        text-align: right;\n",
              "    }\n",
              "\n",
              "    .dataframe thead th {\n",
              "        text-align: left;\n",
              "    }\n",
              "\n",
              "    .dataframe tbody tr th {\n",
              "        vertical-align: top;\n",
              "    }\n",
              "</style>\n",
              "<table border=\"1\" class=\"dataframe\">\n",
              "  <thead>\n",
              "    <tr style=\"text-align: right;\">\n",
              "      <th></th>\n",
              "      <th></th>\n",
              "      <th>lifeExp</th>\n",
              "      <th>gdpPercap</th>\n",
              "    </tr>\n",
              "    <tr>\n",
              "      <th>year</th>\n",
              "      <th>continent</th>\n",
              "      <th></th>\n",
              "      <th></th>\n",
              "    </tr>\n",
              "  </thead>\n",
              "  <tbody>\n",
              "    <tr>\n",
              "      <th rowspan=\"5\" valign=\"top\">1952</th>\n",
              "      <th>Africa</th>\n",
              "      <td>39.135500</td>\n",
              "      <td>1252.572466</td>\n",
              "    </tr>\n",
              "    <tr>\n",
              "      <th>Americas</th>\n",
              "      <td>53.279840</td>\n",
              "      <td>4079.062552</td>\n",
              "    </tr>\n",
              "    <tr>\n",
              "      <th>Asia</th>\n",
              "      <td>46.314394</td>\n",
              "      <td>5195.484004</td>\n",
              "    </tr>\n",
              "    <tr>\n",
              "      <th>Europe</th>\n",
              "      <td>64.408500</td>\n",
              "      <td>5661.057435</td>\n",
              "    </tr>\n",
              "    <tr>\n",
              "      <th>Oceania</th>\n",
              "      <td>69.255000</td>\n",
              "      <td>10298.085650</td>\n",
              "    </tr>\n",
              "    <tr>\n",
              "      <th rowspan=\"5\" valign=\"top\">1957</th>\n",
              "      <th>Africa</th>\n",
              "      <td>41.266346</td>\n",
              "      <td>1385.236062</td>\n",
              "    </tr>\n",
              "    <tr>\n",
              "      <th>Americas</th>\n",
              "      <td>55.960280</td>\n",
              "      <td>4616.043733</td>\n",
              "    </tr>\n",
              "    <tr>\n",
              "      <th>Asia</th>\n",
              "      <td>49.318544</td>\n",
              "      <td>5787.732940</td>\n",
              "    </tr>\n",
              "    <tr>\n",
              "      <th>Europe</th>\n",
              "      <td>66.703067</td>\n",
              "      <td>6963.012816</td>\n",
              "    </tr>\n",
              "    <tr>\n",
              "      <th>Oceania</th>\n",
              "      <td>70.295000</td>\n",
              "      <td>11598.522455</td>\n",
              "    </tr>\n",
              "    <tr>\n",
              "      <th rowspan=\"5\" valign=\"top\">1962</th>\n",
              "      <th>Africa</th>\n",
              "      <td>43.319442</td>\n",
              "      <td>1598.078825</td>\n",
              "    </tr>\n",
              "    <tr>\n",
              "      <th>Americas</th>\n",
              "      <td>58.398760</td>\n",
              "      <td>4901.541870</td>\n",
              "    </tr>\n",
              "    <tr>\n",
              "      <th>Asia</th>\n",
              "      <td>51.563223</td>\n",
              "      <td>5729.369625</td>\n",
              "    </tr>\n",
              "    <tr>\n",
              "      <th>Europe</th>\n",
              "      <td>68.539233</td>\n",
              "      <td>8365.486814</td>\n",
              "    </tr>\n",
              "    <tr>\n",
              "      <th>Oceania</th>\n",
              "      <td>71.085000</td>\n",
              "      <td>12696.452430</td>\n",
              "    </tr>\n",
              "    <tr>\n",
              "      <th rowspan=\"5\" valign=\"top\">1967</th>\n",
              "      <th>Africa</th>\n",
              "      <td>45.334538</td>\n",
              "      <td>2050.363801</td>\n",
              "    </tr>\n",
              "    <tr>\n",
              "      <th>Americas</th>\n",
              "      <td>60.410920</td>\n",
              "      <td>5668.253496</td>\n",
              "    </tr>\n",
              "    <tr>\n",
              "      <th>Asia</th>\n",
              "      <td>54.663640</td>\n",
              "      <td>5971.173374</td>\n",
              "    </tr>\n",
              "    <tr>\n",
              "      <th>Europe</th>\n",
              "      <td>69.737600</td>\n",
              "      <td>10143.823757</td>\n",
              "    </tr>\n",
              "    <tr>\n",
              "      <th>Oceania</th>\n",
              "      <td>71.310000</td>\n",
              "      <td>14495.021790</td>\n",
              "    </tr>\n",
              "    <tr>\n",
              "      <th rowspan=\"5\" valign=\"top\">1972</th>\n",
              "      <th>Africa</th>\n",
              "      <td>47.450942</td>\n",
              "      <td>2339.615674</td>\n",
              "    </tr>\n",
              "    <tr>\n",
              "      <th>Americas</th>\n",
              "      <td>62.394920</td>\n",
              "      <td>6491.334139</td>\n",
              "    </tr>\n",
              "    <tr>\n",
              "      <th>Asia</th>\n",
              "      <td>57.319269</td>\n",
              "      <td>8187.468699</td>\n",
              "    </tr>\n",
              "    <tr>\n",
              "      <th>Europe</th>\n",
              "      <td>70.775033</td>\n",
              "      <td>12479.575246</td>\n",
              "    </tr>\n",
              "    <tr>\n",
              "      <th>Oceania</th>\n",
              "      <td>71.910000</td>\n",
              "      <td>16417.333380</td>\n",
              "    </tr>\n",
              "    <tr>\n",
              "      <th rowspan=\"5\" valign=\"top\">1977</th>\n",
              "      <th>Africa</th>\n",
              "      <td>49.580423</td>\n",
              "      <td>2585.938508</td>\n",
              "    </tr>\n",
              "    <tr>\n",
              "      <th>Americas</th>\n",
              "      <td>64.391560</td>\n",
              "      <td>7352.007126</td>\n",
              "    </tr>\n",
              "    <tr>\n",
              "      <th>Asia</th>\n",
              "      <td>59.610556</td>\n",
              "      <td>7791.314020</td>\n",
              "    </tr>\n",
              "    <tr>\n",
              "      <th>Europe</th>\n",
              "      <td>71.937767</td>\n",
              "      <td>14283.979110</td>\n",
              "    </tr>\n",
              "    <tr>\n",
              "      <th>Oceania</th>\n",
              "      <td>72.855000</td>\n",
              "      <td>17283.957605</td>\n",
              "    </tr>\n",
              "    <tr>\n",
              "      <th rowspan=\"5\" valign=\"top\">1982</th>\n",
              "      <th>Africa</th>\n",
              "      <td>51.592865</td>\n",
              "      <td>2481.592960</td>\n",
              "    </tr>\n",
              "    <tr>\n",
              "      <th>Americas</th>\n",
              "      <td>66.228840</td>\n",
              "      <td>7506.737088</td>\n",
              "    </tr>\n",
              "    <tr>\n",
              "      <th>Asia</th>\n",
              "      <td>62.617939</td>\n",
              "      <td>7434.135157</td>\n",
              "    </tr>\n",
              "    <tr>\n",
              "      <th>Europe</th>\n",
              "      <td>72.806400</td>\n",
              "      <td>15617.896551</td>\n",
              "    </tr>\n",
              "    <tr>\n",
              "      <th>Oceania</th>\n",
              "      <td>74.290000</td>\n",
              "      <td>18554.709840</td>\n",
              "    </tr>\n",
              "    <tr>\n",
              "      <th rowspan=\"5\" valign=\"top\">1987</th>\n",
              "      <th>Africa</th>\n",
              "      <td>53.344788</td>\n",
              "      <td>2282.668991</td>\n",
              "    </tr>\n",
              "    <tr>\n",
              "      <th>Americas</th>\n",
              "      <td>68.090720</td>\n",
              "      <td>7793.400261</td>\n",
              "    </tr>\n",
              "    <tr>\n",
              "      <th>Asia</th>\n",
              "      <td>64.851182</td>\n",
              "      <td>7608.226508</td>\n",
              "    </tr>\n",
              "    <tr>\n",
              "      <th>Europe</th>\n",
              "      <td>73.642167</td>\n",
              "      <td>17214.310727</td>\n",
              "    </tr>\n",
              "    <tr>\n",
              "      <th>Oceania</th>\n",
              "      <td>75.320000</td>\n",
              "      <td>20448.040160</td>\n",
              "    </tr>\n",
              "    <tr>\n",
              "      <th rowspan=\"5\" valign=\"top\">1992</th>\n",
              "      <th>Africa</th>\n",
              "      <td>53.629577</td>\n",
              "      <td>2281.810333</td>\n",
              "    </tr>\n",
              "    <tr>\n",
              "      <th>Americas</th>\n",
              "      <td>69.568360</td>\n",
              "      <td>8044.934406</td>\n",
              "    </tr>\n",
              "    <tr>\n",
              "      <th>Asia</th>\n",
              "      <td>66.537212</td>\n",
              "      <td>8639.690248</td>\n",
              "    </tr>\n",
              "    <tr>\n",
              "      <th>Europe</th>\n",
              "      <td>74.440100</td>\n",
              "      <td>17061.568084</td>\n",
              "    </tr>\n",
              "    <tr>\n",
              "      <th>Oceania</th>\n",
              "      <td>76.945000</td>\n",
              "      <td>20894.045885</td>\n",
              "    </tr>\n",
              "    <tr>\n",
              "      <th rowspan=\"5\" valign=\"top\">1997</th>\n",
              "      <th>Africa</th>\n",
              "      <td>53.598269</td>\n",
              "      <td>2378.759555</td>\n",
              "    </tr>\n",
              "    <tr>\n",
              "      <th>Americas</th>\n",
              "      <td>71.150480</td>\n",
              "      <td>8889.300863</td>\n",
              "    </tr>\n",
              "    <tr>\n",
              "      <th>Asia</th>\n",
              "      <td>68.020515</td>\n",
              "      <td>9834.093295</td>\n",
              "    </tr>\n",
              "    <tr>\n",
              "      <th>Europe</th>\n",
              "      <td>75.505167</td>\n",
              "      <td>19076.781802</td>\n",
              "    </tr>\n",
              "    <tr>\n",
              "      <th>Oceania</th>\n",
              "      <td>78.190000</td>\n",
              "      <td>24024.175170</td>\n",
              "    </tr>\n",
              "    <tr>\n",
              "      <th rowspan=\"5\" valign=\"top\">2002</th>\n",
              "      <th>Africa</th>\n",
              "      <td>53.325231</td>\n",
              "      <td>2599.385159</td>\n",
              "    </tr>\n",
              "    <tr>\n",
              "      <th>Americas</th>\n",
              "      <td>72.422040</td>\n",
              "      <td>9287.677107</td>\n",
              "    </tr>\n",
              "    <tr>\n",
              "      <th>Asia</th>\n",
              "      <td>69.233879</td>\n",
              "      <td>10174.090397</td>\n",
              "    </tr>\n",
              "    <tr>\n",
              "      <th>Europe</th>\n",
              "      <td>76.700600</td>\n",
              "      <td>21711.732422</td>\n",
              "    </tr>\n",
              "    <tr>\n",
              "      <th>Oceania</th>\n",
              "      <td>79.740000</td>\n",
              "      <td>26938.778040</td>\n",
              "    </tr>\n",
              "    <tr>\n",
              "      <th rowspan=\"5\" valign=\"top\">2007</th>\n",
              "      <th>Africa</th>\n",
              "      <td>54.806038</td>\n",
              "      <td>3089.032605</td>\n",
              "    </tr>\n",
              "    <tr>\n",
              "      <th>Americas</th>\n",
              "      <td>73.608120</td>\n",
              "      <td>11003.031625</td>\n",
              "    </tr>\n",
              "    <tr>\n",
              "      <th>Asia</th>\n",
              "      <td>70.728485</td>\n",
              "      <td>12473.026870</td>\n",
              "    </tr>\n",
              "    <tr>\n",
              "      <th>Europe</th>\n",
              "      <td>77.648600</td>\n",
              "      <td>25054.481636</td>\n",
              "    </tr>\n",
              "    <tr>\n",
              "      <th>Oceania</th>\n",
              "      <td>80.719500</td>\n",
              "      <td>29810.188275</td>\n",
              "    </tr>\n",
              "  </tbody>\n",
              "</table>\n",
              "</div>"
            ],
            "text/plain": [
              "                  lifeExp     gdpPercap\n",
              "year continent                         \n",
              "1952 Africa     39.135500   1252.572466\n",
              "     Americas   53.279840   4079.062552\n",
              "     Asia       46.314394   5195.484004\n",
              "     Europe     64.408500   5661.057435\n",
              "     Oceania    69.255000  10298.085650\n",
              "1957 Africa     41.266346   1385.236062\n",
              "     Americas   55.960280   4616.043733\n",
              "     Asia       49.318544   5787.732940\n",
              "     Europe     66.703067   6963.012816\n",
              "     Oceania    70.295000  11598.522455\n",
              "1962 Africa     43.319442   1598.078825\n",
              "     Americas   58.398760   4901.541870\n",
              "     Asia       51.563223   5729.369625\n",
              "     Europe     68.539233   8365.486814\n",
              "     Oceania    71.085000  12696.452430\n",
              "1967 Africa     45.334538   2050.363801\n",
              "     Americas   60.410920   5668.253496\n",
              "     Asia       54.663640   5971.173374\n",
              "     Europe     69.737600  10143.823757\n",
              "     Oceania    71.310000  14495.021790\n",
              "1972 Africa     47.450942   2339.615674\n",
              "     Americas   62.394920   6491.334139\n",
              "     Asia       57.319269   8187.468699\n",
              "     Europe     70.775033  12479.575246\n",
              "     Oceania    71.910000  16417.333380\n",
              "1977 Africa     49.580423   2585.938508\n",
              "     Americas   64.391560   7352.007126\n",
              "     Asia       59.610556   7791.314020\n",
              "     Europe     71.937767  14283.979110\n",
              "     Oceania    72.855000  17283.957605\n",
              "1982 Africa     51.592865   2481.592960\n",
              "     Americas   66.228840   7506.737088\n",
              "     Asia       62.617939   7434.135157\n",
              "     Europe     72.806400  15617.896551\n",
              "     Oceania    74.290000  18554.709840\n",
              "1987 Africa     53.344788   2282.668991\n",
              "     Americas   68.090720   7793.400261\n",
              "     Asia       64.851182   7608.226508\n",
              "     Europe     73.642167  17214.310727\n",
              "     Oceania    75.320000  20448.040160\n",
              "1992 Africa     53.629577   2281.810333\n",
              "     Americas   69.568360   8044.934406\n",
              "     Asia       66.537212   8639.690248\n",
              "     Europe     74.440100  17061.568084\n",
              "     Oceania    76.945000  20894.045885\n",
              "1997 Africa     53.598269   2378.759555\n",
              "     Americas   71.150480   8889.300863\n",
              "     Asia       68.020515   9834.093295\n",
              "     Europe     75.505167  19076.781802\n",
              "     Oceania    78.190000  24024.175170\n",
              "2002 Africa     53.325231   2599.385159\n",
              "     Americas   72.422040   9287.677107\n",
              "     Asia       69.233879  10174.090397\n",
              "     Europe     76.700600  21711.732422\n",
              "     Oceania    79.740000  26938.778040\n",
              "2007 Africa     54.806038   3089.032605\n",
              "     Americas   73.608120  11003.031625\n",
              "     Asia       70.728485  12473.026870\n",
              "     Europe     77.648600  25054.481636\n",
              "     Oceania    80.719500  29810.188275"
            ]
          },
          "metadata": {
            "tags": []
          },
          "execution_count": 40
        }
      ]
    },
    {
      "cell_type": "code",
      "metadata": {
        "id": "oa2hDokZ8yv8",
        "outputId": "9e02005b-3ce5-424e-92c6-88c3861b4852"
      },
      "source": [
        "df.groupby('continent')['country'].nunique()"
      ],
      "execution_count": null,
      "outputs": [
        {
          "output_type": "execute_result",
          "data": {
            "text/plain": [
              "continent\n",
              "Africa      52\n",
              "Americas    25\n",
              "Asia        33\n",
              "Europe      30\n",
              "Oceania      2\n",
              "Name: country, dtype: int64"
            ]
          },
          "metadata": {
            "tags": []
          },
          "execution_count": 41
        }
      ]
    },
    {
      "cell_type": "code",
      "metadata": {
        "id": "vxDQFRmk8ywC"
      },
      "source": [
        "import matplotlib.pyplot\n",
        "%matplotlib inline"
      ],
      "execution_count": null,
      "outputs": []
    },
    {
      "cell_type": "code",
      "metadata": {
        "id": "JQ0hCc0J8ywG",
        "outputId": "296a011a-885a-4567-8320-a43940a82fa4"
      },
      "source": [
        "gyle = df.groupby('year')['lifeExp'].mean()\n",
        "gyle"
      ],
      "execution_count": null,
      "outputs": [
        {
          "output_type": "execute_result",
          "data": {
            "text/plain": [
              "year\n",
              "1952    49.057620\n",
              "1957    51.507401\n",
              "1962    53.609249\n",
              "1967    55.678290\n",
              "1972    57.647386\n",
              "1977    59.570157\n",
              "1982    61.533197\n",
              "1987    63.212613\n",
              "1992    64.160338\n",
              "1997    65.014676\n",
              "2002    65.694923\n",
              "2007    67.007423\n",
              "Name: lifeExp, dtype: float64"
            ]
          },
          "metadata": {
            "tags": []
          },
          "execution_count": 43
        }
      ]
    },
    {
      "cell_type": "code",
      "metadata": {
        "id": "wIYa6eqy8ywN",
        "outputId": "1b2cca35-113d-47cf-cbc9-1e3db61d32b9"
      },
      "source": [
        "gyle.plot()"
      ],
      "execution_count": null,
      "outputs": [
        {
          "output_type": "execute_result",
          "data": {
            "text/plain": [
              "<matplotlib.axes._subplots.AxesSubplot at 0x7fa0ffd3d160>"
            ]
          },
          "metadata": {
            "tags": []
          },
          "execution_count": 44
        },
        {
          "output_type": "display_data",
          "data": {
            "image/png": "[encoded data removed]",
            "text/plain": [
              "<matplotlib.figure.Figure at 0x7fa0ffd1a7f0>"
            ]
          },
          "metadata": {
            "tags": []
          }
        }
      ]
    },
    {
      "cell_type": "markdown",
      "metadata": {
        "id": "d4A6dWWv8ywR"
      },
      "source": [
        "# Saving files"
      ]
    },
    {
      "cell_type": "code",
      "metadata": {
        "id": "g_lEFAR18ywS",
        "outputId": "28311dd7-27f2-4e59-897e-0b5c1a73875a"
      },
      "source": [
        "gyle"
      ],
      "execution_count": null,
      "outputs": [
        {
          "output_type": "execute_result",
          "data": {
            "text/plain": [
              "year\n",
              "1952    49.057620\n",
              "1957    51.507401\n",
              "1962    53.609249\n",
              "1967    55.678290\n",
              "1972    57.647386\n",
              "1977    59.570157\n",
              "1982    61.533197\n",
              "1987    63.212613\n",
              "1992    64.160338\n",
              "1997    65.014676\n",
              "2002    65.694923\n",
              "2007    67.007423\n",
              "Name: lifeExp, dtype: float64"
            ]
          },
          "metadata": {
            "tags": []
          },
          "execution_count": 45
        }
      ]
    },
    {
      "cell_type": "code",
      "metadata": {
        "id": "koKDZBty8ywV",
        "outputId": "a441d53c-abad-4c05-8599-2cf39fc0174f"
      },
      "source": [
        "type(gyle)"
      ],
      "execution_count": null,
      "outputs": [
        {
          "output_type": "execute_result",
          "data": {
            "text/plain": [
              "pandas.core.series.Series"
            ]
          },
          "metadata": {
            "tags": []
          },
          "execution_count": 46
        }
      ]
    },
    {
      "cell_type": "code",
      "metadata": {
        "id": "NfILaKCg8ywY",
        "outputId": "e92be8e3-4a2d-45e8-9282-ffee8ad1b050"
      },
      "source": [
        "df = gyle.reset_index()\n",
        "df"
      ],
      "execution_count": null,
      "outputs": [
        {
          "output_type": "execute_result",
          "data": {
            "text/html": [
              "<div>\n",
              "<style>\n",
              "    .dataframe thead tr:only-child th {\n",
              "        text-align: right;\n",
              "    }\n",
              "\n",
              "    .dataframe thead th {\n",
              "        text-align: left;\n",
              "    }\n",
              "\n",
              "    .dataframe tbody tr th {\n",
              "        vertical-align: top;\n",
              "    }\n",
              "</style>\n",
              "<table border=\"1\" class=\"dataframe\">\n",
              "  <thead>\n",
              "    <tr style=\"text-align: right;\">\n",
              "      <th></th>\n",
              "      <th>year</th>\n",
              "      <th>lifeExp</th>\n",
              "    </tr>\n",
              "  </thead>\n",
              "  <tbody>\n",
              "    <tr>\n",
              "      <th>0</th>\n",
              "      <td>1952</td>\n",
              "      <td>49.057620</td>\n",
              "    </tr>\n",
              "    <tr>\n",
              "      <th>1</th>\n",
              "      <td>1957</td>\n",
              "      <td>51.507401</td>\n",
              "    </tr>\n",
              "    <tr>\n",
              "      <th>2</th>\n",
              "      <td>1962</td>\n",
              "      <td>53.609249</td>\n",
              "    </tr>\n",
              "    <tr>\n",
              "      <th>3</th>\n",
              "      <td>1967</td>\n",
              "      <td>55.678290</td>\n",
              "    </tr>\n",
              "    <tr>\n",
              "      <th>4</th>\n",
              "      <td>1972</td>\n",
              "      <td>57.647386</td>\n",
              "    </tr>\n",
              "    <tr>\n",
              "      <th>5</th>\n",
              "      <td>1977</td>\n",
              "      <td>59.570157</td>\n",
              "    </tr>\n",
              "    <tr>\n",
              "      <th>6</th>\n",
              "      <td>1982</td>\n",
              "      <td>61.533197</td>\n",
              "    </tr>\n",
              "    <tr>\n",
              "      <th>7</th>\n",
              "      <td>1987</td>\n",
              "      <td>63.212613</td>\n",
              "    </tr>\n",
              "    <tr>\n",
              "      <th>8</th>\n",
              "      <td>1992</td>\n",
              "      <td>64.160338</td>\n",
              "    </tr>\n",
              "    <tr>\n",
              "      <th>9</th>\n",
              "      <td>1997</td>\n",
              "      <td>65.014676</td>\n",
              "    </tr>\n",
              "    <tr>\n",
              "      <th>10</th>\n",
              "      <td>2002</td>\n",
              "      <td>65.694923</td>\n",
              "    </tr>\n",
              "    <tr>\n",
              "      <th>11</th>\n",
              "      <td>2007</td>\n",
              "      <td>67.007423</td>\n",
              "    </tr>\n",
              "  </tbody>\n",
              "</table>\n",
              "</div>"
            ],
            "text/plain": [
              "    year    lifeExp\n",
              "0   1952  49.057620\n",
              "1   1957  51.507401\n",
              "2   1962  53.609249\n",
              "3   1967  55.678290\n",
              "4   1972  57.647386\n",
              "5   1977  59.570157\n",
              "6   1982  61.533197\n",
              "7   1987  63.212613\n",
              "8   1992  64.160338\n",
              "9   1997  65.014676\n",
              "10  2002  65.694923\n",
              "11  2007  67.007423"
            ]
          },
          "metadata": {
            "tags": []
          },
          "execution_count": 47
        }
      ]
    },
    {
      "cell_type": "code",
      "metadata": {
        "id": "JeB4PwHk8ywb"
      },
      "source": [
        "df.to_csv('../output/lifeExp_by_year.csv')"
      ],
      "execution_count": null,
      "outputs": []
    },
    {
      "cell_type": "code",
      "metadata": {
        "id": "FyUZQRDt8ywf"
      },
      "source": [
        "df.to_csv('../output/lifeExp_by_year.csv', index=False)"
      ],
      "execution_count": null,
      "outputs": []
    },
    {
      "cell_type": "code",
      "metadata": {
        "id": "xdvBGl_G8ywi",
        "outputId": "f51b3e6c-009d-4f0f-f3fb-75f542f8e51a"
      },
      "source": [
        "# df.to_feather('../output/lifeExp_by_year.feather')"
      ],
      "execution_count": null,
      "outputs": [
        {
          "output_type": "error",
          "ename": "ImportError",
          "evalue": "the feather-format library is not installed\nyou can install via conda\nconda install feather-format -c conda-forge\nor via pip\npip install feather-format\n",
          "traceback": [
            "\u001b[0;31m---------------------------------------------------------------------------\u001b[0m",
            "\u001b[0;31mModuleNotFoundError\u001b[0m                       Traceback (most recent call last)",
            "\u001b[0;32m/home/dchen/anaconda3/lib/python3.6/site-packages/pandas/io/feather_format.py\u001b[0m in \u001b[0;36m_try_import\u001b[0;34m()\u001b[0m\n\u001b[1;32m     12\u001b[0m     \u001b[0;32mtry\u001b[0m\u001b[0;34m:\u001b[0m\u001b[0;34m\u001b[0m\u001b[0m\n\u001b[0;32m---> 13\u001b[0;31m         \u001b[0;32mimport\u001b[0m \u001b[0mfeather\u001b[0m\u001b[0;34m\u001b[0m\u001b[0m\n\u001b[0m\u001b[1;32m     14\u001b[0m     \u001b[0;32mexcept\u001b[0m \u001b[0mImportError\u001b[0m\u001b[0;34m:\u001b[0m\u001b[0;34m\u001b[0m\u001b[0m\n",
            "\u001b[0;31mModuleNotFoundError\u001b[0m: No module named 'feather'",
            "\nDuring handling of the above exception, another exception occurred:\n",
            "\u001b[0;31mImportError\u001b[0m                               Traceback (most recent call last)",
            "\u001b[0;32m<ipython-input-50-d2f5320d06a9>\u001b[0m in \u001b[0;36m<module>\u001b[0;34m()\u001b[0m\n\u001b[0;32m----> 1\u001b[0;31m \u001b[0mdf\u001b[0m\u001b[0;34m.\u001b[0m\u001b[0mto_feather\u001b[0m\u001b[0;34m(\u001b[0m\u001b[0;34m'../output/lifeExp_by_year.feather'\u001b[0m\u001b[0;34m)\u001b[0m\u001b[0;34m\u001b[0m\u001b[0m\n\u001b[0m",
            "\u001b[0;32m/home/dchen/anaconda3/lib/python3.6/site-packages/pandas/core/frame.py\u001b[0m in \u001b[0;36mto_feather\u001b[0;34m(self, fname)\u001b[0m\n\u001b[1;32m   1512\u001b[0m         \"\"\"\n\u001b[1;32m   1513\u001b[0m         \u001b[0;32mfrom\u001b[0m \u001b[0mpandas\u001b[0m\u001b[0;34m.\u001b[0m\u001b[0mio\u001b[0m\u001b[0;34m.\u001b[0m\u001b[0mfeather_format\u001b[0m \u001b[0;32mimport\u001b[0m \u001b[0mto_feather\u001b[0m\u001b[0;34m\u001b[0m\u001b[0m\n\u001b[0;32m-> 1514\u001b[0;31m         \u001b[0mto_feather\u001b[0m\u001b[0;34m(\u001b[0m\u001b[0mself\u001b[0m\u001b[0;34m,\u001b[0m \u001b[0mfname\u001b[0m\u001b[0;34m)\u001b[0m\u001b[0;34m\u001b[0m\u001b[0m\n\u001b[0m\u001b[1;32m   1515\u001b[0m \u001b[0;34m\u001b[0m\u001b[0m\n\u001b[1;32m   1516\u001b[0m     @Substitution(header='Write out column names. If a list of string is given, \\\n",
            "\u001b[0;32m/home/dchen/anaconda3/lib/python3.6/site-packages/pandas/io/feather_format.py\u001b[0m in \u001b[0;36mto_feather\u001b[0;34m(df, path)\u001b[0m\n\u001b[1;32m     47\u001b[0m         \u001b[0;32mraise\u001b[0m \u001b[0mValueError\u001b[0m\u001b[0;34m(\u001b[0m\u001b[0;34m\"feather only support IO with DataFrames\"\u001b[0m\u001b[0;34m)\u001b[0m\u001b[0;34m\u001b[0m\u001b[0m\n\u001b[1;32m     48\u001b[0m \u001b[0;34m\u001b[0m\u001b[0m\n\u001b[0;32m---> 49\u001b[0;31m     \u001b[0mfeather\u001b[0m \u001b[0;34m=\u001b[0m \u001b[0m_try_import\u001b[0m\u001b[0;34m(\u001b[0m\u001b[0;34m)\u001b[0m\u001b[0;34m\u001b[0m\u001b[0m\n\u001b[0m\u001b[1;32m     50\u001b[0m     \u001b[0mvalid_types\u001b[0m \u001b[0;34m=\u001b[0m \u001b[0;34m{\u001b[0m\u001b[0;34m'string'\u001b[0m\u001b[0;34m,\u001b[0m \u001b[0;34m'unicode'\u001b[0m\u001b[0;34m}\u001b[0m\u001b[0;34m\u001b[0m\u001b[0m\n\u001b[1;32m     51\u001b[0m \u001b[0;34m\u001b[0m\u001b[0m\n",
            "\u001b[0;32m/home/dchen/anaconda3/lib/python3.6/site-packages/pandas/io/feather_format.py\u001b[0m in \u001b[0;36m_try_import\u001b[0;34m()\u001b[0m\n\u001b[1;32m     15\u001b[0m \u001b[0;34m\u001b[0m\u001b[0m\n\u001b[1;32m     16\u001b[0m         \u001b[0;31m# give a nice error message\u001b[0m\u001b[0;34m\u001b[0m\u001b[0;34m\u001b[0m\u001b[0m\n\u001b[0;32m---> 17\u001b[0;31m         raise ImportError(\"the feather-format library is not installed\\n\"\n\u001b[0m\u001b[1;32m     18\u001b[0m                           \u001b[0;34m\"you can install via conda\\n\"\u001b[0m\u001b[0;34m\u001b[0m\u001b[0m\n\u001b[1;32m     19\u001b[0m                           \u001b[0;34m\"conda install feather-format -c conda-forge\\n\"\u001b[0m\u001b[0;34m\u001b[0m\u001b[0m\n",
            "\u001b[0;31mImportError\u001b[0m: the feather-format library is not installed\nyou can install via conda\nconda install feather-format -c conda-forge\nor via pip\npip install feather-format\n"
          ]
        }
      ]
    },
    {
      "cell_type": "markdown",
      "metadata": {
        "id": "5PZRtSiY8ywx"
      },
      "source": [
        "```python\n",
        "---------------------------------------------------------------------------\n",
        "ModuleNotFoundError                       Traceback (most recent call last)\n",
        "/home/dchen/anaconda3/lib/python3.6/site-packages/pandas/io/feather_format.py in _try_import()\n",
        "     12     try:\n",
        "---> 13         import feather\n",
        "     14     except ImportError:\n",
        "\n",
        "ModuleNotFoundError: No module named 'feather'\n",
        "\n",
        "During handling of the above exception, another exception occurred:\n",
        "\n",
        "ImportError                               Traceback (most recent call last)\n",
        "<ipython-input-114-d2f5320d06a9> in <module>()\n",
        "----> 1 df.to_feather('../output/lifeExp_by_year.feather')\n",
        "\n",
        "/home/dchen/anaconda3/lib/python3.6/site-packages/pandas/core/frame.py in to_feather(self, fname)\n",
        "   1512         \"\"\"\n",
        "   1513         from pandas.io.feather_format import to_feather\n",
        "-> 1514         to_feather(self, fname)\n",
        "   1515 \n",
        "   1516     @Substitution(header='Write out column names. If a list of string is given, \\\n",
        "\n",
        "/home/dchen/anaconda3/lib/python3.6/site-packages/pandas/io/feather_format.py in to_feather(df, path)\n",
        "     47         raise ValueError(\"feather only support IO with DataFrames\")\n",
        "     48 \n",
        "---> 49     feather = _try_import()\n",
        "     50     valid_types = {'string', 'unicode'}\n",
        "     51 \n",
        "\n",
        "/home/dchen/anaconda3/lib/python3.6/site-packages/pandas/io/feather_format.py in _try_import()\n",
        "     15 \n",
        "     16         # give a nice error message\n",
        "---> 17         raise ImportError(\"the feather-format library is not installed\\n\"\n",
        "     18                           \"you can install via conda\\n\"\n",
        "     19                           \"conda install feather-format -c conda-forge\\n\"\n",
        "\n",
        "ImportError: the feather-format library is not installed\n",
        "you can install via conda\n",
        "conda install feather-format -c conda-forge\n",
        "or via pip\n",
        "pip install feather-format\n",
        "```"
      ]
    },
    {
      "cell_type": "markdown",
      "metadata": {
        "collapsed": true,
        "id": "GB5eU_Lf8ywx"
      },
      "source": [
        "```\n",
        "$ conda install feather-format -c conda-forge\n",
        "Fetching package metadata .............\n",
        "Solving package specifications: .\n",
        "\n",
        "Package plan for installation in environment /home/dchen/anaconda3:\n",
        "\n",
        "The following NEW packages will be INSTALLED:\n",
        "\n",
        "    arrow-cpp:      0.4.1-np112py36_3 conda-forge\n",
        "    feather-format: 0.4.0-py36_2      conda-forge\n",
        "    jemalloc:       4.4.0-0           conda-forge\n",
        "    parquet-cpp:    1.2.0.pre-0       conda-forge\n",
        "    pyarrow:        0.4.1-np112py36_0 conda-forge\n",
        "\n",
        "The following packages will be SUPERSEDED by a higher-priority channel:\n",
        "\n",
        "    conda:          4.3.22-py36_0                 --> 4.3.22-py36_0 conda-forge\n",
        "    conda-env:      2.6.0-0                       --> 2.6.0-0       conda-forge\n",
        "\n",
        "Proceed ([y]/n)? y\n",
        "\n",
        "conda-env-2.6. 100% |#############################################################################################| Time: 0:00:00 614.38 kB/s\n",
        "jemalloc-4.4.0 100% |#############################################################################################| Time: 0:00:00   2.57 MB/s\n",
        "arrow-cpp-0.4. 100% |#############################################################################################| Time: 0:00:00   5.37 MB/s\n",
        "parquet-cpp-1. 100% |#############################################################################################| Time: 0:00:00   4.28 MB/s\n",
        "pyarrow-0.4.1- 100% |#############################################################################################| Time: 0:00:00   4.77 MB/s\n",
        "conda-4.3.22-p 100% |#############################################################################################| Time: 0:00:00 790.22 kB/s\n",
        "feather-format 100% |#############################################################################################| Time: 0:00:00   6.23 MB/s\n",
        "```"
      ]
    },
    {
      "cell_type": "code",
      "metadata": {
        "id": "dg73WVrR8ywy"
      },
      "source": [
        "df.to_feather('../output/lifeExp_by_year.feather')"
      ],
      "execution_count": null,
      "outputs": []
    },
    {
      "cell_type": "code",
      "metadata": {
        "id": "coTRA2Vx8yw5"
      },
      "source": [
        ""
      ],
      "execution_count": null,
      "outputs": []
    }
  ]
}